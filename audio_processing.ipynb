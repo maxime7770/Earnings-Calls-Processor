{
 "cells": [
  {
   "cell_type": "code",
   "execution_count": 1,
   "metadata": {},
   "outputs": [],
   "source": [
    "import librosa\n",
    "import numpy as np"
   ]
  },
  {
   "cell_type": "code",
   "execution_count": 5,
   "metadata": {},
   "outputs": [
    {
     "name": "stderr",
     "output_type": "stream",
     "text": [
      "Downloading file 'sorohanro_-_solo-trumpet-06.ogg' from 'https://librosa.org/data/audio/sorohanro_-_solo-trumpet-06.ogg' to '/Users/maxime/Library/Caches/librosa'.\n"
     ]
    },
    {
     "data": {
      "text/plain": [
       "array([-1.4068211e-03, -4.4607485e-04, -4.1098098e-04, ...,\n",
       "        7.9623042e-06, -3.0417003e-05,  1.2765069e-05], dtype=float32)"
      ]
     },
     "execution_count": 5,
     "metadata": {},
     "output_type": "execute_result"
    }
   ],
   "source": [
    "# Load an ogg vorbis file\n",
    "filename = librosa.ex('trumpet')\n",
    "y, sr = librosa.load(filename)\n",
    "y\n"
   ]
  },
  {
   "cell_type": "code",
   "execution_count": 2,
   "metadata": {},
   "outputs": [],
   "source": [
    "# Load audio file\n",
    "filename = 'AudioData/NVDA/2021-Feb-24-NVDA.OQ-140975780833.mp3'"
   ]
  },
  {
   "cell_type": "code",
   "execution_count": 8,
   "metadata": {},
   "outputs": [],
   "source": [
    "filename = 'AudioData/file_example_MP3_700KB.mp3'"
   ]
  },
  {
   "cell_type": "code",
   "execution_count": 9,
   "metadata": {},
   "outputs": [],
   "source": [
    "import soundfile as sf\n",
    "\n",
    "_ = sf.read(filename)"
   ]
  },
  {
   "cell_type": "code",
   "execution_count": 10,
   "metadata": {},
   "outputs": [],
   "source": [
    "y, sr = librosa.load(filename, sr=None, dtype=np.float32)"
   ]
  },
  {
   "cell_type": "code",
   "execution_count": 4,
   "metadata": {},
   "outputs": [
    {
     "ename": "LibsndfileError",
     "evalue": "Error opening 'AudioData/NVDA/2021-Feb-24-NVDA.OQ-140975780833.mp3': File does not exist or is not a regular file (possibly a pipe?).",
     "output_type": "error",
     "traceback": [
      "\u001b[0;31m---------------------------------------------------------------------------\u001b[0m",
      "\u001b[0;31mLibsndfileError\u001b[0m                           Traceback (most recent call last)",
      "\u001b[1;32m/Users/maxime/Desktop/Projects/Earning-Calls-Processor/audio_processing.ipynb Cell 5\u001b[0m line \u001b[0;36m6\n\u001b[1;32m      <a href='vscode-notebook-cell:/Users/maxime/Desktop/Projects/Earning-Calls-Processor/audio_processing.ipynb#X13sZmlsZQ%3D%3D?line=2'>3</a>\u001b[0m \u001b[39m# Generator to load audio in chunks\u001b[39;00m\n\u001b[1;32m      <a href='vscode-notebook-cell:/Users/maxime/Desktop/Projects/Earning-Calls-Processor/audio_processing.ipynb#X13sZmlsZQ%3D%3D?line=3'>4</a>\u001b[0m stream \u001b[39m=\u001b[39m librosa\u001b[39m.\u001b[39mstream(filename, block_length\u001b[39m=\u001b[39m\u001b[39m256\u001b[39m, frame_length\u001b[39m=\u001b[39m\u001b[39m4096\u001b[39m, hop_length\u001b[39m=\u001b[39m\u001b[39m1024\u001b[39m)\n\u001b[0;32m----> <a href='vscode-notebook-cell:/Users/maxime/Desktop/Projects/Earning-Calls-Processor/audio_processing.ipynb#X13sZmlsZQ%3D%3D?line=5'>6</a>\u001b[0m \u001b[39mfor\u001b[39;00m y_block \u001b[39min\u001b[39;00m stream:\n\u001b[1;32m      <a href='vscode-notebook-cell:/Users/maxime/Desktop/Projects/Earning-Calls-Processor/audio_processing.ipynb#X13sZmlsZQ%3D%3D?line=6'>7</a>\u001b[0m     \u001b[39m# Process each block\u001b[39;00m\n\u001b[1;32m      <a href='vscode-notebook-cell:/Users/maxime/Desktop/Projects/Earning-Calls-Processor/audio_processing.ipynb#X13sZmlsZQ%3D%3D?line=7'>8</a>\u001b[0m     \u001b[39mprint\u001b[39m(y_block)\n",
      "File \u001b[0;32m~/Desktop/Projects/Earning-Calls-Processor/venv/lib/python3.9/site-packages/librosa/core/audio.py:441\u001b[0m, in \u001b[0;36mstream\u001b[0;34m(path, block_length, frame_length, hop_length, mono, offset, duration, fill_value, dtype)\u001b[0m\n\u001b[1;32m    439\u001b[0m     sfo \u001b[39m=\u001b[39m path\n\u001b[1;32m    440\u001b[0m \u001b[39melse\u001b[39;00m:\n\u001b[0;32m--> 441\u001b[0m     sfo \u001b[39m=\u001b[39m sf\u001b[39m.\u001b[39;49mSoundFile(path)\n\u001b[1;32m    443\u001b[0m \u001b[39m# Get the sample rate from the file info\u001b[39;00m\n\u001b[1;32m    444\u001b[0m sr \u001b[39m=\u001b[39m sfo\u001b[39m.\u001b[39msamplerate\n",
      "File \u001b[0;32m~/Desktop/Projects/Earning-Calls-Processor/venv/lib/python3.9/site-packages/soundfile.py:658\u001b[0m, in \u001b[0;36mSoundFile.__init__\u001b[0;34m(self, file, mode, samplerate, channels, subtype, endian, format, closefd)\u001b[0m\n\u001b[1;32m    655\u001b[0m \u001b[39mself\u001b[39m\u001b[39m.\u001b[39m_mode \u001b[39m=\u001b[39m mode\n\u001b[1;32m    656\u001b[0m \u001b[39mself\u001b[39m\u001b[39m.\u001b[39m_info \u001b[39m=\u001b[39m _create_info_struct(file, mode, samplerate, channels,\n\u001b[1;32m    657\u001b[0m                                  \u001b[39mformat\u001b[39m, subtype, endian)\n\u001b[0;32m--> 658\u001b[0m \u001b[39mself\u001b[39m\u001b[39m.\u001b[39m_file \u001b[39m=\u001b[39m \u001b[39mself\u001b[39;49m\u001b[39m.\u001b[39;49m_open(file, mode_int, closefd)\n\u001b[1;32m    659\u001b[0m \u001b[39mif\u001b[39;00m \u001b[39mset\u001b[39m(mode)\u001b[39m.\u001b[39missuperset(\u001b[39m'\u001b[39m\u001b[39mr+\u001b[39m\u001b[39m'\u001b[39m) \u001b[39mand\u001b[39;00m \u001b[39mself\u001b[39m\u001b[39m.\u001b[39mseekable():\n\u001b[1;32m    660\u001b[0m     \u001b[39m# Move write position to 0 (like in Python file objects)\u001b[39;00m\n\u001b[1;32m    661\u001b[0m     \u001b[39mself\u001b[39m\u001b[39m.\u001b[39mseek(\u001b[39m0\u001b[39m)\n",
      "File \u001b[0;32m~/Desktop/Projects/Earning-Calls-Processor/venv/lib/python3.9/site-packages/soundfile.py:1216\u001b[0m, in \u001b[0;36mSoundFile._open\u001b[0;34m(self, file, mode_int, closefd)\u001b[0m\n\u001b[1;32m   1213\u001b[0m \u001b[39mif\u001b[39;00m file_ptr \u001b[39m==\u001b[39m _ffi\u001b[39m.\u001b[39mNULL:\n\u001b[1;32m   1214\u001b[0m     \u001b[39m# get the actual error code\u001b[39;00m\n\u001b[1;32m   1215\u001b[0m     err \u001b[39m=\u001b[39m _snd\u001b[39m.\u001b[39msf_error(file_ptr)\n\u001b[0;32m-> 1216\u001b[0m     \u001b[39mraise\u001b[39;00m LibsndfileError(err, prefix\u001b[39m=\u001b[39m\u001b[39m\"\u001b[39m\u001b[39mError opening \u001b[39m\u001b[39m{0!r}\u001b[39;00m\u001b[39m: \u001b[39m\u001b[39m\"\u001b[39m\u001b[39m.\u001b[39mformat(\u001b[39mself\u001b[39m\u001b[39m.\u001b[39mname))\n\u001b[1;32m   1217\u001b[0m \u001b[39mif\u001b[39;00m mode_int \u001b[39m==\u001b[39m _snd\u001b[39m.\u001b[39mSFM_WRITE:\n\u001b[1;32m   1218\u001b[0m     \u001b[39m# Due to a bug in libsndfile version <= 1.0.25, frames != 0\u001b[39;00m\n\u001b[1;32m   1219\u001b[0m     \u001b[39m# when opening a named pipe in SFM_WRITE mode.\u001b[39;00m\n\u001b[1;32m   1220\u001b[0m     \u001b[39m# See http://github.com/erikd/libsndfile/issues/77.\u001b[39;00m\n\u001b[1;32m   1221\u001b[0m     \u001b[39mself\u001b[39m\u001b[39m.\u001b[39m_info\u001b[39m.\u001b[39mframes \u001b[39m=\u001b[39m \u001b[39m0\u001b[39m\n",
      "\u001b[0;31mLibsndfileError\u001b[0m: Error opening 'AudioData/NVDA/2021-Feb-24-NVDA.OQ-140975780833.mp3': File does not exist or is not a regular file (possibly a pipe?)."
     ]
    }
   ],
   "source": [
    "import librosa\n",
    "\n",
    "# Generator to load audio in chunks\n",
    "stream = librosa.stream(filename, block_length=256, frame_length=4096, hop_length=1024)\n",
    "\n",
    "for y_block in stream:\n",
    "    # Process each block\n",
    "    print(y_block)\n"
   ]
  },
  {
   "cell_type": "code",
   "execution_count": 11,
   "metadata": {},
   "outputs": [
    {
     "name": "stdout",
     "output_type": "stream",
     "text": [
      "Estimated speech duration: 0.041020408163265305 seconds\n"
     ]
    }
   ],
   "source": [
    "# Detect voiced segments (a simple approach using energy)\n",
    "intensity = librosa.feature.rms(y=y)\n",
    "voiced_threshold = np.median(intensity)  # Simple threshold, adjust based on your audio\n",
    "voiced_segments = intensity > voiced_threshold\n",
    "\n",
    "# Calculate speech speed (this is a very rudimentary calculation)\n",
    "# For a more accurate approach, consider using speech recognition to count words or syllables\n",
    "speech_duration_seconds = np.sum(voiced_segments) / sr\n",
    "print(f\"Estimated speech duration: {speech_duration_seconds} seconds\")\n",
    "\n",
    "# Note: This doesn't count words or syllables directly. You might need a speech-to-text service for accurate speech speed (words per minute).\n"
   ]
  },
  {
   "cell_type": "code",
   "execution_count": 12,
   "metadata": {},
   "outputs": [
    {
     "name": "stdout",
     "output_type": "stream",
     "text": [
      "Mean pitch: 197.64412560750836 Hz\n"
     ]
    }
   ],
   "source": [
    "import parselmouth\n",
    "\n",
    "# Load the audio file\n",
    "sound = parselmouth.Sound(filename)\n",
    "\n",
    "# Analyze pitch\n",
    "pitch = sound.to_pitch()\n",
    "\n",
    "# Get mean pitch in the audio file\n",
    "mean_pitch = pitch.selected_array['frequency'].mean()\n",
    "print(f\"Mean pitch: {mean_pitch} Hz\")\n",
    "\n",
    "# You can extend this to analyze intensity, formants, etc., to infer more about the tone.\n"
   ]
  },
  {
   "cell_type": "code",
   "execution_count": null,
   "metadata": {},
   "outputs": [],
   "source": []
  }
 ],
 "metadata": {
  "kernelspec": {
   "display_name": "venv",
   "language": "python",
   "name": "python3"
  },
  "language_info": {
   "codemirror_mode": {
    "name": "ipython",
    "version": 3
   },
   "file_extension": ".py",
   "mimetype": "text/x-python",
   "name": "python",
   "nbconvert_exporter": "python",
   "pygments_lexer": "ipython3",
   "version": "3.9.18"
  }
 },
 "nbformat": 4,
 "nbformat_minor": 2
}
