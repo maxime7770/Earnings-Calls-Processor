{
 "cells": [
  {
   "cell_type": "code",
   "execution_count": 1,
   "metadata": {},
   "outputs": [],
   "source": [
    "import librosa\n",
    "import numpy as np"
   ]
  },
  {
   "cell_type": "code",
   "execution_count": 4,
   "metadata": {},
   "outputs": [
    {
     "name": "stdout",
     "output_type": "stream",
     "text": [
      "Exported AudioData/AAPL/2019-Apr-30-AAPL.OQ-139934481137/segment_1.mp3\n",
      "Exported AudioData/AAPL/2019-Apr-30-AAPL.OQ-139934481137/segment_2.mp3\n",
      "Exported AudioData/AAPL/2019-Apr-30-AAPL.OQ-139934481137/segment_3.mp3\n",
      "Exported AudioData/AAPL/2019-Apr-30-AAPL.OQ-139934481137/segment_4.mp3\n",
      "Exported AudioData/AAPL/2019-Apr-30-AAPL.OQ-139934481137/segment_5.mp3\n",
      "Exported AudioData/AAPL/2019-Apr-30-AAPL.OQ-139934481137/segment_6.mp3\n",
      "Exported AudioData/AAPL/2019-Apr-30-AAPL.OQ-139934481137/segment_7.mp3\n",
      "Exported AudioData/AAPL/2019-Apr-30-AAPL.OQ-139934481137/segment_8.mp3\n",
      "Exported AudioData/AAPL/2019-Apr-30-AAPL.OQ-139934481137/segment_9.mp3\n",
      "Exported AudioData/AAPL/2019-Apr-30-AAPL.OQ-139934481137/segment_10.mp3\n",
      "Exported AudioData/AAPL/2019-Apr-30-AAPL.OQ-139934481137/segment_11.mp3\n",
      "Exported AudioData/AAPL/2019-Apr-30-AAPL.OQ-139934481137/segment_12.mp3\n",
      "Exported AudioData/AAPL/2019-Apr-30-AAPL.OQ-139934481137/segment_13.mp3\n",
      "Exported AudioData/AAPL/2019-Apr-30-AAPL.OQ-139934481137/segment_14.mp3\n",
      "Exported AudioData/AAPL/2019-Apr-30-AAPL.OQ-139934481137/segment_15.mp3\n",
      "Exported AudioData/AAPL/2019-Apr-30-AAPL.OQ-139934481137/segment_16.mp3\n"
     ]
    }
   ],
   "source": [
    "from pydub import AudioSegment\n",
    "import os\n",
    "\n",
    "def split_mp3(filename, num_segments):\n",
    "    ''' Evenly split an mp3 file into num_segments segments '''\n",
    "    os.makedirs(filename[:-4], exist_ok=True)\n",
    "    audio = AudioSegment.from_mp3(filename)\n",
    "    duration_ms = len(audio)\n",
    "    segment_length = duration_ms // num_segments\n",
    "    for i in range(0, duration_ms, segment_length):\n",
    "        segment = audio[i:i + segment_length]\n",
    "        segment_filename = filename[:-4] + f\"/segment_{i // segment_length + 1}.mp3\"\n",
    "        segment.export(segment_filename, format=\"mp3\")\n",
    "        print(f\"Exported {segment_filename}\")\n",
    "\n",
    "path_to_file = 'AudioData/AAPL/2019-Apr-30-AAPL.OQ-139934481137.mp3'\n",
    "\n",
    "num_segments = 15\n",
    "split_mp3(path_to_file, num_segments)"
   ]
  },
  {
   "cell_type": "code",
   "execution_count": 12,
   "metadata": {},
   "outputs": [
    {
     "name": "stdout",
     "output_type": "stream",
     "text": [
      "Exported AudioData/AAPL/2020-Apr-30-AAPL.OQ-140195689057/segment_1.mp3\n",
      "Exported AudioData/AAPL/2020-Apr-30-AAPL.OQ-140195689057/segment_2.mp3\n",
      "Exported AudioData/AAPL/2020-Apr-30-AAPL.OQ-140195689057/segment_3.mp3\n",
      "Exported AudioData/AAPL/2020-Apr-30-AAPL.OQ-140195689057/segment_4.mp3\n",
      "Exported AudioData/AAPL/2020-Apr-30-AAPL.OQ-140195689057/segment_5.mp3\n",
      "Exported AudioData/AAPL/2020-Apr-30-AAPL.OQ-140195689057/segment_6.mp3\n",
      "Exported AudioData/AAPL/2020-Apr-30-AAPL.OQ-140195689057/segment_7.mp3\n",
      "Exported AudioData/AAPL/2020-Apr-30-AAPL.OQ-140195689057/segment_8.mp3\n",
      "Exported AudioData/AAPL/2020-Apr-30-AAPL.OQ-140195689057/segment_9.mp3\n",
      "Exported AudioData/AAPL/2020-Apr-30-AAPL.OQ-140195689057/segment_10.mp3\n",
      "Exported AudioData/AAPL/2020-Apr-30-AAPL.OQ-140195689057/segment_11.mp3\n",
      "Exported AudioData/AAPL/2020-Apr-30-AAPL.OQ-140195689057/segment_12.mp3\n",
      "Exported AudioData/AAPL/2020-Apr-30-AAPL.OQ-140195689057/segment_13.mp3\n",
      "Exported AudioData/AAPL/2020-Apr-30-AAPL.OQ-140195689057/segment_14.mp3\n",
      "Exported AudioData/AAPL/2020-Apr-30-AAPL.OQ-140195689057/segment_15.mp3\n",
      "Exported AudioData/AAPL/2020-Apr-30-AAPL.OQ-140195689057/segment_16.mp3\n",
      "Exported AudioData/AAPL/2020-Jan-28-AAPL.OQ-137948852907/segment_1.mp3\n",
      "Exported AudioData/AAPL/2020-Jan-28-AAPL.OQ-137948852907/segment_2.mp3\n",
      "Exported AudioData/AAPL/2020-Jan-28-AAPL.OQ-137948852907/segment_3.mp3\n",
      "Exported AudioData/AAPL/2020-Jan-28-AAPL.OQ-137948852907/segment_4.mp3\n",
      "Exported AudioData/AAPL/2020-Jan-28-AAPL.OQ-137948852907/segment_5.mp3\n",
      "Exported AudioData/AAPL/2020-Jan-28-AAPL.OQ-137948852907/segment_6.mp3\n",
      "Exported AudioData/AAPL/2020-Jan-28-AAPL.OQ-137948852907/segment_7.mp3\n",
      "Exported AudioData/AAPL/2020-Jan-28-AAPL.OQ-137948852907/segment_8.mp3\n",
      "Exported AudioData/AAPL/2020-Jan-28-AAPL.OQ-137948852907/segment_9.mp3\n",
      "Exported AudioData/AAPL/2020-Jan-28-AAPL.OQ-137948852907/segment_10.mp3\n",
      "Exported AudioData/AAPL/2020-Jan-28-AAPL.OQ-137948852907/segment_11.mp3\n",
      "Exported AudioData/AAPL/2020-Jan-28-AAPL.OQ-137948852907/segment_12.mp3\n",
      "Exported AudioData/AAPL/2020-Jan-28-AAPL.OQ-137948852907/segment_13.mp3\n",
      "Exported AudioData/AAPL/2020-Jan-28-AAPL.OQ-137948852907/segment_14.mp3\n",
      "Exported AudioData/AAPL/2020-Jan-28-AAPL.OQ-137948852907/segment_15.mp3\n",
      "Exported AudioData/AAPL/2019-Jan-29-AAPL.OQ-140336997647/segment_1.mp3\n",
      "Exported AudioData/AAPL/2019-Jan-29-AAPL.OQ-140336997647/segment_2.mp3\n",
      "Exported AudioData/AAPL/2019-Jan-29-AAPL.OQ-140336997647/segment_3.mp3\n",
      "Exported AudioData/AAPL/2019-Jan-29-AAPL.OQ-140336997647/segment_4.mp3\n",
      "Exported AudioData/AAPL/2019-Jan-29-AAPL.OQ-140336997647/segment_5.mp3\n",
      "Exported AudioData/AAPL/2019-Jan-29-AAPL.OQ-140336997647/segment_6.mp3\n",
      "Exported AudioData/AAPL/2019-Jan-29-AAPL.OQ-140336997647/segment_7.mp3\n",
      "Exported AudioData/AAPL/2019-Jan-29-AAPL.OQ-140336997647/segment_8.mp3\n",
      "Exported AudioData/AAPL/2019-Jan-29-AAPL.OQ-140336997647/segment_9.mp3\n",
      "Exported AudioData/AAPL/2019-Jan-29-AAPL.OQ-140336997647/segment_10.mp3\n",
      "Exported AudioData/AAPL/2019-Jan-29-AAPL.OQ-140336997647/segment_11.mp3\n",
      "Exported AudioData/AAPL/2019-Jan-29-AAPL.OQ-140336997647/segment_12.mp3\n",
      "Exported AudioData/AAPL/2019-Jan-29-AAPL.OQ-140336997647/segment_13.mp3\n",
      "Exported AudioData/AAPL/2019-Jan-29-AAPL.OQ-140336997647/segment_14.mp3\n",
      "Exported AudioData/AAPL/2019-Jan-29-AAPL.OQ-140336997647/segment_15.mp3\n",
      "Exported AudioData/AAPL/2019-Jan-29-AAPL.OQ-140336997647/segment_16.mp3\n",
      "Exported AudioData/AAPL/2023-Aug-03-AAPL.OQ-138336763416/segment_1.mp3\n",
      "Exported AudioData/AAPL/2023-Aug-03-AAPL.OQ-138336763416/segment_2.mp3\n",
      "Exported AudioData/AAPL/2023-Aug-03-AAPL.OQ-138336763416/segment_3.mp3\n",
      "Exported AudioData/AAPL/2023-Aug-03-AAPL.OQ-138336763416/segment_4.mp3\n",
      "Exported AudioData/AAPL/2023-Aug-03-AAPL.OQ-138336763416/segment_5.mp3\n",
      "Exported AudioData/AAPL/2023-Aug-03-AAPL.OQ-138336763416/segment_6.mp3\n",
      "Exported AudioData/AAPL/2023-Aug-03-AAPL.OQ-138336763416/segment_7.mp3\n",
      "Exported AudioData/AAPL/2023-Aug-03-AAPL.OQ-138336763416/segment_8.mp3\n",
      "Exported AudioData/AAPL/2023-Aug-03-AAPL.OQ-138336763416/segment_9.mp3\n",
      "Exported AudioData/AAPL/2023-Aug-03-AAPL.OQ-138336763416/segment_10.mp3\n",
      "Exported AudioData/AAPL/2023-Aug-03-AAPL.OQ-138336763416/segment_11.mp3\n",
      "Exported AudioData/AAPL/2023-Aug-03-AAPL.OQ-138336763416/segment_12.mp3\n",
      "Exported AudioData/AAPL/2023-Aug-03-AAPL.OQ-138336763416/segment_13.mp3\n",
      "Exported AudioData/AAPL/2023-Aug-03-AAPL.OQ-138336763416/segment_14.mp3\n",
      "Exported AudioData/AAPL/2023-Aug-03-AAPL.OQ-138336763416/segment_15.mp3\n",
      "Exported AudioData/AAPL/2021-Jan-27-AAPL.OQ-137405328510/segment_1.mp3\n",
      "Exported AudioData/AAPL/2021-Jan-27-AAPL.OQ-137405328510/segment_2.mp3\n",
      "Exported AudioData/AAPL/2021-Jan-27-AAPL.OQ-137405328510/segment_3.mp3\n",
      "Exported AudioData/AAPL/2021-Jan-27-AAPL.OQ-137405328510/segment_4.mp3\n",
      "Exported AudioData/AAPL/2021-Jan-27-AAPL.OQ-137405328510/segment_5.mp3\n",
      "Exported AudioData/AAPL/2021-Jan-27-AAPL.OQ-137405328510/segment_6.mp3\n",
      "Exported AudioData/AAPL/2021-Jan-27-AAPL.OQ-137405328510/segment_7.mp3\n",
      "Exported AudioData/AAPL/2021-Jan-27-AAPL.OQ-137405328510/segment_8.mp3\n",
      "Exported AudioData/AAPL/2021-Jan-27-AAPL.OQ-137405328510/segment_9.mp3\n",
      "Exported AudioData/AAPL/2021-Jan-27-AAPL.OQ-137405328510/segment_10.mp3\n",
      "Exported AudioData/AAPL/2021-Jan-27-AAPL.OQ-137405328510/segment_11.mp3\n",
      "Exported AudioData/AAPL/2021-Jan-27-AAPL.OQ-137405328510/segment_12.mp3\n",
      "Exported AudioData/AAPL/2021-Jan-27-AAPL.OQ-137405328510/segment_13.mp3\n",
      "Exported AudioData/AAPL/2021-Jan-27-AAPL.OQ-137405328510/segment_14.mp3\n",
      "Exported AudioData/AAPL/2021-Jan-27-AAPL.OQ-137405328510/segment_15.mp3\n",
      "Exported AudioData/AAPL/2021-Jan-27-AAPL.OQ-137405328510/segment_16.mp3\n",
      "Exported AudioData/AAPL/2021-Apr-28-AAPL.OQ-139264952632/segment_1.mp3\n",
      "Exported AudioData/AAPL/2021-Apr-28-AAPL.OQ-139264952632/segment_2.mp3\n",
      "Exported AudioData/AAPL/2021-Apr-28-AAPL.OQ-139264952632/segment_3.mp3\n",
      "Exported AudioData/AAPL/2021-Apr-28-AAPL.OQ-139264952632/segment_4.mp3\n",
      "Exported AudioData/AAPL/2021-Apr-28-AAPL.OQ-139264952632/segment_5.mp3\n",
      "Exported AudioData/AAPL/2021-Apr-28-AAPL.OQ-139264952632/segment_6.mp3\n",
      "Exported AudioData/AAPL/2021-Apr-28-AAPL.OQ-139264952632/segment_7.mp3\n",
      "Exported AudioData/AAPL/2021-Apr-28-AAPL.OQ-139264952632/segment_8.mp3\n",
      "Exported AudioData/AAPL/2021-Apr-28-AAPL.OQ-139264952632/segment_9.mp3\n",
      "Exported AudioData/AAPL/2021-Apr-28-AAPL.OQ-139264952632/segment_10.mp3\n",
      "Exported AudioData/AAPL/2021-Apr-28-AAPL.OQ-139264952632/segment_11.mp3\n",
      "Exported AudioData/AAPL/2021-Apr-28-AAPL.OQ-139264952632/segment_12.mp3\n",
      "Exported AudioData/AAPL/2021-Apr-28-AAPL.OQ-139264952632/segment_13.mp3\n",
      "Exported AudioData/AAPL/2021-Apr-28-AAPL.OQ-139264952632/segment_14.mp3\n",
      "Exported AudioData/AAPL/2021-Apr-28-AAPL.OQ-139264952632/segment_15.mp3\n",
      "Exported AudioData/AAPL/2019-Apr-30-AAPL.OQ-139934481137/segment_1.mp3\n",
      "Exported AudioData/AAPL/2019-Apr-30-AAPL.OQ-139934481137/segment_2.mp3\n",
      "Exported AudioData/AAPL/2019-Apr-30-AAPL.OQ-139934481137/segment_3.mp3\n",
      "Exported AudioData/AAPL/2019-Apr-30-AAPL.OQ-139934481137/segment_4.mp3\n",
      "Exported AudioData/AAPL/2019-Apr-30-AAPL.OQ-139934481137/segment_5.mp3\n",
      "Exported AudioData/AAPL/2019-Apr-30-AAPL.OQ-139934481137/segment_6.mp3\n",
      "Exported AudioData/AAPL/2019-Apr-30-AAPL.OQ-139934481137/segment_7.mp3\n",
      "Exported AudioData/AAPL/2019-Apr-30-AAPL.OQ-139934481137/segment_8.mp3\n",
      "Exported AudioData/AAPL/2019-Apr-30-AAPL.OQ-139934481137/segment_9.mp3\n",
      "Exported AudioData/AAPL/2019-Apr-30-AAPL.OQ-139934481137/segment_10.mp3\n",
      "Exported AudioData/AAPL/2019-Apr-30-AAPL.OQ-139934481137/segment_11.mp3\n",
      "Exported AudioData/AAPL/2019-Apr-30-AAPL.OQ-139934481137/segment_12.mp3\n",
      "Exported AudioData/AAPL/2019-Apr-30-AAPL.OQ-139934481137/segment_13.mp3\n",
      "Exported AudioData/AAPL/2019-Apr-30-AAPL.OQ-139934481137/segment_14.mp3\n",
      "Exported AudioData/AAPL/2019-Apr-30-AAPL.OQ-139934481137/segment_15.mp3\n",
      "Exported AudioData/AAPL/2019-Apr-30-AAPL.OQ-139934481137/segment_16.mp3\n",
      "Exported AudioData/AAPL/2020-Oct-29-AAPL.OQ-141103256170/segment_1.mp3\n",
      "Exported AudioData/AAPL/2020-Oct-29-AAPL.OQ-141103256170/segment_2.mp3\n",
      "Exported AudioData/AAPL/2020-Oct-29-AAPL.OQ-141103256170/segment_3.mp3\n",
      "Exported AudioData/AAPL/2020-Oct-29-AAPL.OQ-141103256170/segment_4.mp3\n",
      "Exported AudioData/AAPL/2020-Oct-29-AAPL.OQ-141103256170/segment_5.mp3\n",
      "Exported AudioData/AAPL/2020-Oct-29-AAPL.OQ-141103256170/segment_6.mp3\n",
      "Exported AudioData/AAPL/2020-Oct-29-AAPL.OQ-141103256170/segment_7.mp3\n",
      "Exported AudioData/AAPL/2020-Oct-29-AAPL.OQ-141103256170/segment_8.mp3\n",
      "Exported AudioData/AAPL/2020-Oct-29-AAPL.OQ-141103256170/segment_9.mp3\n",
      "Exported AudioData/AAPL/2020-Oct-29-AAPL.OQ-141103256170/segment_10.mp3\n",
      "Exported AudioData/AAPL/2020-Oct-29-AAPL.OQ-141103256170/segment_11.mp3\n",
      "Exported AudioData/AAPL/2020-Oct-29-AAPL.OQ-141103256170/segment_12.mp3\n",
      "Exported AudioData/AAPL/2020-Oct-29-AAPL.OQ-141103256170/segment_13.mp3\n",
      "Exported AudioData/AAPL/2020-Oct-29-AAPL.OQ-141103256170/segment_14.mp3\n",
      "Exported AudioData/AAPL/2020-Oct-29-AAPL.OQ-141103256170/segment_15.mp3\n",
      "Exported AudioData/AAPL/2020-Oct-29-AAPL.OQ-141103256170/segment_16.mp3\n",
      "Exported AudioData/AAPL/2022-Oct-27-AAPL.OQ-140449384074/segment_1.mp3\n",
      "Exported AudioData/AAPL/2022-Oct-27-AAPL.OQ-140449384074/segment_2.mp3\n",
      "Exported AudioData/AAPL/2022-Oct-27-AAPL.OQ-140449384074/segment_3.mp3\n",
      "Exported AudioData/AAPL/2022-Oct-27-AAPL.OQ-140449384074/segment_4.mp3\n",
      "Exported AudioData/AAPL/2022-Oct-27-AAPL.OQ-140449384074/segment_5.mp3\n",
      "Exported AudioData/AAPL/2022-Oct-27-AAPL.OQ-140449384074/segment_6.mp3\n",
      "Exported AudioData/AAPL/2022-Oct-27-AAPL.OQ-140449384074/segment_7.mp3\n",
      "Exported AudioData/AAPL/2022-Oct-27-AAPL.OQ-140449384074/segment_8.mp3\n",
      "Exported AudioData/AAPL/2022-Oct-27-AAPL.OQ-140449384074/segment_9.mp3\n",
      "Exported AudioData/AAPL/2022-Oct-27-AAPL.OQ-140449384074/segment_10.mp3\n",
      "Exported AudioData/AAPL/2022-Oct-27-AAPL.OQ-140449384074/segment_11.mp3\n",
      "Exported AudioData/AAPL/2022-Oct-27-AAPL.OQ-140449384074/segment_12.mp3\n",
      "Exported AudioData/AAPL/2022-Oct-27-AAPL.OQ-140449384074/segment_13.mp3\n",
      "Exported AudioData/AAPL/2022-Oct-27-AAPL.OQ-140449384074/segment_14.mp3\n",
      "Exported AudioData/AAPL/2022-Oct-27-AAPL.OQ-140449384074/segment_15.mp3\n",
      "Exported AudioData/AAPL/2022-Apr-28-AAPL.OQ-138491813375/segment_1.mp3\n",
      "Exported AudioData/AAPL/2022-Apr-28-AAPL.OQ-138491813375/segment_2.mp3\n",
      "Exported AudioData/AAPL/2022-Apr-28-AAPL.OQ-138491813375/segment_3.mp3\n",
      "Exported AudioData/AAPL/2022-Apr-28-AAPL.OQ-138491813375/segment_4.mp3\n",
      "Exported AudioData/AAPL/2022-Apr-28-AAPL.OQ-138491813375/segment_5.mp3\n",
      "Exported AudioData/AAPL/2022-Apr-28-AAPL.OQ-138491813375/segment_6.mp3\n",
      "Exported AudioData/AAPL/2022-Apr-28-AAPL.OQ-138491813375/segment_7.mp3\n",
      "Exported AudioData/AAPL/2022-Apr-28-AAPL.OQ-138491813375/segment_8.mp3\n",
      "Exported AudioData/AAPL/2022-Apr-28-AAPL.OQ-138491813375/segment_9.mp3\n",
      "Exported AudioData/AAPL/2022-Apr-28-AAPL.OQ-138491813375/segment_10.mp3\n",
      "Exported AudioData/AAPL/2022-Apr-28-AAPL.OQ-138491813375/segment_11.mp3\n",
      "Exported AudioData/AAPL/2022-Apr-28-AAPL.OQ-138491813375/segment_12.mp3\n",
      "Exported AudioData/AAPL/2022-Apr-28-AAPL.OQ-138491813375/segment_13.mp3\n",
      "Exported AudioData/AAPL/2022-Apr-28-AAPL.OQ-138491813375/segment_14.mp3\n",
      "Exported AudioData/AAPL/2022-Apr-28-AAPL.OQ-138491813375/segment_15.mp3\n",
      "Exported AudioData/AAPL/2022-Apr-28-AAPL.OQ-138491813375/segment_16.mp3\n",
      "Exported AudioData/AAPL/2019-Oct-30-AAPL.OQ-137802390954/segment_1.mp3\n",
      "Exported AudioData/AAPL/2019-Oct-30-AAPL.OQ-137802390954/segment_2.mp3\n",
      "Exported AudioData/AAPL/2019-Oct-30-AAPL.OQ-137802390954/segment_3.mp3\n",
      "Exported AudioData/AAPL/2019-Oct-30-AAPL.OQ-137802390954/segment_4.mp3\n",
      "Exported AudioData/AAPL/2019-Oct-30-AAPL.OQ-137802390954/segment_5.mp3\n",
      "Exported AudioData/AAPL/2019-Oct-30-AAPL.OQ-137802390954/segment_6.mp3\n",
      "Exported AudioData/AAPL/2019-Oct-30-AAPL.OQ-137802390954/segment_7.mp3\n",
      "Exported AudioData/AAPL/2019-Oct-30-AAPL.OQ-137802390954/segment_8.mp3\n",
      "Exported AudioData/AAPL/2019-Oct-30-AAPL.OQ-137802390954/segment_9.mp3\n",
      "Exported AudioData/AAPL/2019-Oct-30-AAPL.OQ-137802390954/segment_10.mp3\n",
      "Exported AudioData/AAPL/2019-Oct-30-AAPL.OQ-137802390954/segment_11.mp3\n",
      "Exported AudioData/AAPL/2019-Oct-30-AAPL.OQ-137802390954/segment_12.mp3\n",
      "Exported AudioData/AAPL/2019-Oct-30-AAPL.OQ-137802390954/segment_13.mp3\n",
      "Exported AudioData/AAPL/2019-Oct-30-AAPL.OQ-137802390954/segment_14.mp3\n",
      "Exported AudioData/AAPL/2019-Oct-30-AAPL.OQ-137802390954/segment_15.mp3\n",
      "Exported AudioData/AAPL/2019-Oct-30-AAPL.OQ-137802390954/segment_16.mp3\n",
      "Exported AudioData/AAPL/2023-Nov-02-AAPL.OQ-140502977515/segment_1.mp3\n",
      "Exported AudioData/AAPL/2023-Nov-02-AAPL.OQ-140502977515/segment_2.mp3\n",
      "Exported AudioData/AAPL/2023-Nov-02-AAPL.OQ-140502977515/segment_3.mp3\n",
      "Exported AudioData/AAPL/2023-Nov-02-AAPL.OQ-140502977515/segment_4.mp3\n",
      "Exported AudioData/AAPL/2023-Nov-02-AAPL.OQ-140502977515/segment_5.mp3\n",
      "Exported AudioData/AAPL/2023-Nov-02-AAPL.OQ-140502977515/segment_6.mp3\n",
      "Exported AudioData/AAPL/2023-Nov-02-AAPL.OQ-140502977515/segment_7.mp3\n",
      "Exported AudioData/AAPL/2023-Nov-02-AAPL.OQ-140502977515/segment_8.mp3\n",
      "Exported AudioData/AAPL/2023-Nov-02-AAPL.OQ-140502977515/segment_9.mp3\n",
      "Exported AudioData/AAPL/2023-Nov-02-AAPL.OQ-140502977515/segment_10.mp3\n",
      "Exported AudioData/AAPL/2023-Nov-02-AAPL.OQ-140502977515/segment_11.mp3\n",
      "Exported AudioData/AAPL/2023-Nov-02-AAPL.OQ-140502977515/segment_12.mp3\n",
      "Exported AudioData/AAPL/2023-Nov-02-AAPL.OQ-140502977515/segment_13.mp3\n",
      "Exported AudioData/AAPL/2023-Nov-02-AAPL.OQ-140502977515/segment_14.mp3\n",
      "Exported AudioData/AAPL/2023-Nov-02-AAPL.OQ-140502977515/segment_15.mp3\n",
      "Exported AudioData/AAPL/2023-Nov-02-AAPL.OQ-140502977515/segment_16.mp3\n",
      "Exported AudioData/AAPL/2021-Jul-27-AAPL.OQ-138310703827/segment_1.mp3\n",
      "Exported AudioData/AAPL/2021-Jul-27-AAPL.OQ-138310703827/segment_2.mp3\n",
      "Exported AudioData/AAPL/2021-Jul-27-AAPL.OQ-138310703827/segment_3.mp3\n",
      "Exported AudioData/AAPL/2021-Jul-27-AAPL.OQ-138310703827/segment_4.mp3\n",
      "Exported AudioData/AAPL/2021-Jul-27-AAPL.OQ-138310703827/segment_5.mp3\n",
      "Exported AudioData/AAPL/2021-Jul-27-AAPL.OQ-138310703827/segment_6.mp3\n",
      "Exported AudioData/AAPL/2021-Jul-27-AAPL.OQ-138310703827/segment_7.mp3\n",
      "Exported AudioData/AAPL/2021-Jul-27-AAPL.OQ-138310703827/segment_8.mp3\n",
      "Exported AudioData/AAPL/2021-Jul-27-AAPL.OQ-138310703827/segment_9.mp3\n",
      "Exported AudioData/AAPL/2021-Jul-27-AAPL.OQ-138310703827/segment_10.mp3\n",
      "Exported AudioData/AAPL/2021-Jul-27-AAPL.OQ-138310703827/segment_11.mp3\n",
      "Exported AudioData/AAPL/2021-Jul-27-AAPL.OQ-138310703827/segment_12.mp3\n",
      "Exported AudioData/AAPL/2021-Jul-27-AAPL.OQ-138310703827/segment_13.mp3\n",
      "Exported AudioData/AAPL/2021-Jul-27-AAPL.OQ-138310703827/segment_14.mp3\n",
      "Exported AudioData/AAPL/2021-Jul-27-AAPL.OQ-138310703827/segment_15.mp3\n",
      "Exported AudioData/AAPL/2021-Jul-27-AAPL.OQ-138310703827/segment_16.mp3\n"
     ]
    }
   ],
   "source": [
    "# go through all mp3 files in the directory and subdirectories and split them\n",
    "def split_all(path):\n",
    "    for root, dirs, files in os.walk(path):\n",
    "        for file in files:\n",
    "            if file.endswith('.mp3'):\n",
    "                filename = file.split('/')[-1][:-4]\n",
    "                company = root.split('/')[-1]\n",
    "                output_dir = 'AudioData/' + company + '/' + filename\n",
    "                os.makedirs(output_dir, exist_ok=True)\n",
    "                audio = AudioSegment.from_mp3(root + '/' + file)\n",
    "                duration_ms = len(audio)\n",
    "                segment_length = duration_ms // num_segments\n",
    "                for i in range(0, duration_ms, segment_length):\n",
    "                    segment = audio[i:i + segment_length]\n",
    "                    segment_filename = output_dir + f\"/segment_{i // segment_length + 1}.mp3\"\n",
    "                    segment.export(segment_filename, format=\"mp3\")\n",
    "                print(f\"Exported {output_dir}\")\n",
    "                # delete segment 16 if exists\n",
    "                if os.path.exists(output_dir + '/segment_16.mp3'):\n",
    "                    os.remove(output_dir + '/segment_16.mp3', )\n",
    "\n",
    "split_all('Audio/')"
   ]
  },
  {
   "cell_type": "code",
   "execution_count": 5,
   "metadata": {},
   "outputs": [
    {
     "name": "stdout",
     "output_type": "stream",
     "text": [
      "Audio/ ['AAPL', 'GOOGL', 'MSFT', 'NVDA'] []\n",
      "Audio/AAPL [] ['2020-Apr-30-AAPL.OQ-140195689057.mp3', '2020-Jan-28-AAPL.OQ-137948852907.mp3', '2019-Jan-29-AAPL.OQ-140336997647.mp3', '2023-Aug-03-AAPL.OQ-138336763416.mp3', '2021-Jan-27-AAPL.OQ-137405328510.mp3', '2021-Apr-28-AAPL.OQ-139264952632.mp3', '2019-Apr-30-AAPL.OQ-139934481137.mp3', '2020-Oct-29-AAPL.OQ-141103256170.mp3', '2022-Oct-27-AAPL.OQ-140449384074.mp3', '2022-Apr-28-AAPL.OQ-138491813375.mp3', '2019-Oct-30-AAPL.OQ-137802390954.mp3', '2023-Nov-02-AAPL.OQ-140502977515.mp3', '2021-Jul-27-AAPL.OQ-138310703827.mp3', '2021-Oct-28-AAPL.OQ-139435924054.mp3', '2023-Feb-02-AAPL.OQ-140682524715.mp3', '2022-Jan-27-AAPL.OQ-138984465849.mp3', '2024-Feb-01-AAPL.OQ-139920838259.mp3', '2019-Jul-30-AAPL.OQ-139263252221.mp3', '2023-May-04-AAPL.OQ-139016265469.mp3', '2022-Jul-28-AAPL.OQ-139999304673.mp3', '2020-Jul-30-AAPL.OQ-139668219181.mp3']\n",
      "Audio/GOOGL [] ['2023-Apr-25-GOOGL.OQ-140631444702.mp3', '2019-Apr-29-GOOGL.OQ-138437793323.mp3', '2022-Apr-26-GOOGL.OQ-138254363287.mp3', '2020-Oct-29-GOOGL.OQ-139782001487.mp3', '2022-Oct-25-GOOGL.OQ-139231849236.mp3', '2020-Apr-28-GOOGL.OQ-140392485906.mp3', '2021-Oct-26-GOOGL.OQ-138977760639.mp3', '2019-Oct-28-GOOGL.OQ-140771052031.mp3', '2024-Jan-30-GOOGL.OQ-137240585407.mp3', '2020-Jul-30-GOOGL.OQ-137802974054.mp3', '2019-Jul-25-GOOGL.OQ-138968198385.mp3', '2023-Jul-25-GOOGL.OQ-137436048683.mp3', '2022-Jul-26-GOOGL.OQ-140228385298.mp3', '2023-Oct-24-GOOGL.OQ-139817940018.mp3', '2022-Feb-01-GOOGL.OQ-138419589371.mp3', '2021-Jul-27-GOOGL.OQ-139538083691.mp3', '2020-Feb-03-GOOGL.OQ-140620477566.mp3', '2023-Feb-02-GOOGL.OQ-139696880209.mp3', '2021-Apr-27-GOOGL.OQ-140883667426.mp3', '2021-Feb-02-GOOGL.OQ-140272639014.mp3']\n",
      "Audio/MSFT [] ['2021-Apr-27-MSFT.OQ-138354673931.mp3', '2020-Jan-29-MSFT.OQ-140129439974.mp3', '2023-Jan-24-MSFT.OQ-139975820358.mp3', '2019-Jan-30-MSFT.OQ-138292870495.mp3', '2023-Oct-24-MSFT.OQ-139993350133.mp3', '2022-Oct-25-MSFT.OQ-137469915199.mp3', '2019-Jul-18-MSFT.OQ-139110662748.mp3', '2020-Apr-29-MSFT.OQ-140314894650.mp3', '2021-Jan-26-MSFT.OQ-137814513205.mp3', '2019-Apr-24-MSFT.OQ-137229165252.mp3', '2023-Jul-25-MSFT.OQ-137462259693.mp3', '2022-Jul-26-MSFT.OQ-139232561311.mp3', '2020-Oct-27-MSFT.OQ-139733835758.mp3', '2019-Oct-23-MSFT.OQ-138436529717.mp3', '2021-Jul-27-MSFT.OQ-138684941105.mp3', '2018-Oct-24-MSFT.OQ-140974450991.mp3', '2022-Jan-25-MSFT.OQ-140806504057.mp3', '2022-Apr-26-MSFT.OQ-138905362958.mp3', '2023-Apr-25-MSFT.OQ-139717566700.mp3', '2021-Oct-26-MSFT.OQ-137114240470.mp3', '2024-Jan-30-MSFT.OQ-139756114312.mp3', '2020-Jul-22-MSFT.OQ-137245175690.mp3']\n",
      "Audio/NVDA [] ['2020-Feb-13-NVDA.OQ-137146670911.mp3', '2019-May-16-NVDA.OQ-140275786112.mp3', '2023-Nov-21-NVDA.OQ-137385262309.mp3', '2020-Nov-18-NVDA.OQ-137342634445.mp3', '2020-Aug-19-NVDA.OQ-140529591121.mp3', '2022-May-25-NVDA.OQ-140360204206.mp3', '2021-Aug-18-NVDA.OQ-137355070866.mp3', '2021-Feb-24-NVDA.OQ-140975780833.mp3', '2021-May-26-NVDA.OQ-140536594409.mp3', '2024-Feb-21-NVDA.OQ-137669438300.mp3', '2023-Aug-23-NVDA.OQ-139752558276.mp3', '2021-Nov-17-NVDA.OQ-139568780056.mp3', '2018-May-10-NVDA.OQ-140924003184.mp3', '2022-Feb-16-NVDA.OQ-140007769507.mp3', '2018-Aug-16-NVDA.OQ-136946161445.mp3', '2019-Aug-15-NVDA.OQ-140926561998.mp3', '2020-May-21-NVDA.OQ-139958608589.mp3', '2023-May-24-NVDA.OQ-136909784191.mp3', '2018-Nov-15-NVDA.OQ-141007714603.mp3', '2022-Nov-16-NVDA.OQ-139288301318.mp3', '2023-Feb-22-NVDA.OQ-137608967498.mp3', '2019-Nov-14-NVDA.OQ-138044908915.mp3', '2019-Feb-14-NVDA.OQ-138662621679.mp3', '2022-Aug-24-NVDA.OQ-138269873856.mp3']\n"
     ]
    }
   ],
   "source": [
    "for root, dirs, files in os.walk('Audio/'):\n",
    "    print(root, dirs, files)"
   ]
  },
  {
   "cell_type": "code",
   "execution_count": 55,
   "metadata": {},
   "outputs": [],
   "source": [
    "# Load audio file\n",
    "filename = 'AudioData/AAPL/2019-Apr-30-AAPL.OQ-139934481137.mp3'"
   ]
  },
  {
   "cell_type": "code",
   "execution_count": 38,
   "metadata": {},
   "outputs": [],
   "source": [
    "filename = 'AudioData/file_example_MP3_700KB.mp3'"
   ]
  },
  {
   "cell_type": "code",
   "execution_count": 56,
   "metadata": {},
   "outputs": [],
   "source": [
    "import soundfile as sf\n",
    "\n",
    "_ = sf.read(filename)"
   ]
  },
  {
   "cell_type": "code",
   "execution_count": 57,
   "metadata": {},
   "outputs": [],
   "source": [
    "y, sr = librosa.load(filename, sr=16000, dtype=np.float32)"
   ]
  },
  {
   "cell_type": "code",
   "execution_count": 58,
   "metadata": {},
   "outputs": [
    {
     "data": {
      "text/plain": [
       "array([ 1.0817012e-12,  3.0290646e-13, -7.8385882e-13, ...,\n",
       "       -3.1494394e-06, -1.7602131e-06,  0.0000000e+00], dtype=float32)"
      ]
     },
     "execution_count": 58,
     "metadata": {},
     "output_type": "execute_result"
    }
   ],
   "source": [
    "y"
   ]
  },
  {
   "cell_type": "code",
   "execution_count": 59,
   "metadata": {},
   "outputs": [],
   "source": [
    "from transformers import Wav2Vec2Processor\n",
    "from transformers.models.wav2vec2.modeling_wav2vec2 import (\n",
    "    Wav2Vec2Model,\n",
    "    Wav2Vec2PreTrainedModel,\n",
    ")\n",
    "import torch\n",
    "import torch.nn as nn\n",
    "\n",
    "class RegressionHead(nn.Module):\n",
    "    r\"\"\"Classification head.\"\"\"\n",
    "\n",
    "    def __init__(self, config):\n",
    "\n",
    "        super().__init__()\n",
    "\n",
    "        self.dense = nn.Linear(config.hidden_size, config.hidden_size)\n",
    "        self.dropout = nn.Dropout(config.final_dropout)\n",
    "        self.out_proj = nn.Linear(config.hidden_size, config.num_labels)\n",
    "\n",
    "    def forward(self, features, **kwargs):\n",
    "\n",
    "        x = features\n",
    "        x = self.dropout(x)\n",
    "        x = self.dense(x)\n",
    "        x = torch.tanh(x)\n",
    "        x = self.dropout(x)\n",
    "        x = self.out_proj(x)\n",
    "\n",
    "        return x\n",
    "\n",
    "class EmotionModel(Wav2Vec2PreTrainedModel):\n",
    "    r\"\"\"Speech emotion classifier.\"\"\"\n",
    "\n",
    "    def __init__(self, config):\n",
    "\n",
    "        super().__init__(config)\n",
    "\n",
    "        self.config = config\n",
    "        self.wav2vec2 = Wav2Vec2Model(config)\n",
    "        self.classifier = RegressionHead(config)\n",
    "        self.init_weights()\n",
    "\n",
    "    def forward(\n",
    "            self,\n",
    "            input_values,\n",
    "    ):\n",
    "\n",
    "        outputs = self.wav2vec2(input_values)\n",
    "        hidden_states = outputs[0]\n",
    "        hidden_states = torch.mean(hidden_states, dim=1)\n",
    "        logits = self.classifier(hidden_states)\n",
    "\n",
    "        return hidden_states, logits\n"
   ]
  },
  {
   "cell_type": "code",
   "execution_count": 60,
   "metadata": {},
   "outputs": [
    {
     "name": "stderr",
     "output_type": "stream",
     "text": [
      "Some weights of EmotionModel were not initialized from the model checkpoint at audeering/wav2vec2-large-robust-12-ft-emotion-msp-dim and are newly initialized: ['wav2vec2.encoder.pos_conv_embed.conv.parametrizations.weight.original0', 'wav2vec2.encoder.pos_conv_embed.conv.parametrizations.weight.original1']\n",
      "You should probably TRAIN this model on a down-stream task to be able to use it for predictions and inference.\n"
     ]
    }
   ],
   "source": [
    "device = 'cpu'\n",
    "model_name = 'audeering/wav2vec2-large-robust-12-ft-emotion-msp-dim'\n",
    "processor = Wav2Vec2Processor.from_pretrained(model_name)\n",
    "model = EmotionModel.from_pretrained(model_name)\n",
    "\n",
    "y_processed = processor(y, sampling_rate=16000)\n",
    "y_processed = y_processed['input_values'][0]\n",
    "y_processed = y_processed.reshape(1, -1)\n",
    "y_processed = torch.from_numpy(y_processed).to(device)\n",
    "\n",
    "with torch.no_grad():\n",
    "        y_processed, sent = model(y_processed)\n",
    "\n",
    "# convert to numpy\n",
    "y_processed = y_processed.detach().cpu().numpy()\n",
    "sent = sent.detach().cpu().numpy()\n",
    "\n"
   ]
  },
  {
   "cell_type": "code",
   "execution_count": null,
   "metadata": {},
   "outputs": [
    {
     "data": {
      "text/plain": [
       "array([[0.55590785, 0.5495001 , 0.39147374]], dtype=float32)"
      ]
     },
     "execution_count": 44,
     "metadata": {},
     "output_type": "execute_result"
    }
   ],
   "source": [
    "sent"
   ]
  },
  {
   "cell_type": "code",
   "execution_count": 50,
   "metadata": {},
   "outputs": [
    {
     "name": "stdout",
     "output_type": "stream",
     "text": [
      "[{'score': 0.7991957068443298, 'label': 'positive sentiment'}, {'score': 0.08826709538698196, 'label': 'aggressive tone'}, {'score': 0.07042617350816727, 'label': 'calm tone'}, {'score': 0.02783028595149517, 'label': 'negative sentiment'}, {'score': 0.010820894502103329, 'label': 'neutral sentiment'}, {'score': 0.0018461584113538265, 'label': 'slow speech'}, {'score': 0.001613809261471033, 'label': 'fast speech'}]\n"
     ]
    }
   ],
   "source": [
    "from transformers import pipeline\n",
    "\n",
    "audio = y  # Your audio input\n",
    "\n",
    "# Initialize the zero-shot audio classification pipeline with a suitable model\n",
    "audio_classifier = pipeline(task=\"zero-shot-audio-classification\", model=\"laion/larger_clap_general\")\n",
    "\n",
    "# Define candidate labels that represent the audio features you are interested in\n",
    "candidate_labels = [\n",
    "    \"positive sentiment\",  # Looking for positive emotional content\n",
    "    \"negative sentiment\",  # Looking for negative emotional content\n",
    "    \"neutral sentiment\",   # Checking for neutral emotional content\n",
    "    \"fast speech\",         # Identifying fast speech rates\n",
    "    \"slow speech\",         # Identifying slow speech rates\n",
    "    \"calm tone\",           # Identifying calm tones\n",
    "    \"aggressive tone\"      # Identifying aggressive tones\n",
    "]\n",
    "\n",
    "# Classify the audio with the newly defined candidate labels\n",
    "output = audio_classifier(audio, candidate_labels=candidate_labels)\n",
    "\n",
    "# Print the classification output\n",
    "print(output)\n"
   ]
  },
  {
   "cell_type": "markdown",
   "metadata": {},
   "source": [
    "https://huggingface.co/Rajaram1996/Hubert_emotion/tree/main"
   ]
  },
  {
   "cell_type": "markdown",
   "metadata": {},
   "source": [
    "https://huggingface.co/ehcalabres/wav2vec2-lg-xlsr-en-speech-emotion-recognition"
   ]
  },
  {
   "cell_type": "code",
   "execution_count": 46,
   "metadata": {},
   "outputs": [
    {
     "name": "stderr",
     "output_type": "stream",
     "text": [
      "It is strongly recommended to pass the `sampling_rate` argument to this function. Failing to do so can result in silent errors that might be hard to debug.\n"
     ]
    }
   ],
   "source": [
    "from transformers import ClapModel, ClapProcessor\n",
    "\n",
    "\n",
    "model = ClapModel.from_pretrained(\"laion/larger_clap_general\")\n",
    "processor = ClapProcessor.from_pretrained(\"laion/larger_clap_general\")\n",
    "\n",
    "inputs = processor(audios=audio, return_tensors=\"pt\")\n",
    "audio_embed = model.get_audio_features(**inputs)\n"
   ]
  },
  {
   "cell_type": "code",
   "execution_count": 48,
   "metadata": {},
   "outputs": [
    {
     "data": {
      "text/plain": [
       "torch.Size([1, 512])"
      ]
     },
     "execution_count": 48,
     "metadata": {},
     "output_type": "execute_result"
    }
   ],
   "source": [
    "audio_embed.shape"
   ]
  },
  {
   "cell_type": "code",
   "execution_count": 11,
   "metadata": {},
   "outputs": [
    {
     "name": "stdout",
     "output_type": "stream",
     "text": [
      "Estimated speech duration: 0.041020408163265305 seconds\n"
     ]
    }
   ],
   "source": [
    "# Detect voiced segments (a simple approach using energy)\n",
    "intensity = librosa.feature.rms(y=y)\n",
    "voiced_threshold = np.median(intensity)  # Simple threshold, adjust based on your audio\n",
    "voiced_segments = intensity > voiced_threshold\n",
    "\n",
    "# Calculate speech speed (this is a very rudimentary calculation)\n",
    "# For a more accurate approach, consider using speech recognition to count words or syllables\n",
    "speech_duration_seconds = np.sum(voiced_segments) / sr\n",
    "print(f\"Estimated speech duration: {speech_duration_seconds} seconds\")\n",
    "\n",
    "# Note: This doesn't count words or syllables directly. You might need a speech-to-text service for accurate speech speed (words per minute).\n"
   ]
  },
  {
   "cell_type": "code",
   "execution_count": 12,
   "metadata": {},
   "outputs": [
    {
     "name": "stdout",
     "output_type": "stream",
     "text": [
      "Mean pitch: 197.64412560750836 Hz\n"
     ]
    }
   ],
   "source": [
    "import parselmouth\n",
    "\n",
    "# Load the audio file\n",
    "sound = parselmouth.Sound(filename)\n",
    "\n",
    "# Analyze pitch\n",
    "pitch = sound.to_pitch()\n",
    "\n",
    "# Get mean pitch in the audio file\n",
    "mean_pitch = pitch.selected_array['frequency'].mean()\n",
    "print(f\"Mean pitch: {mean_pitch} Hz\")\n",
    "\n",
    "# You can extend this to analyze intensity, formants, etc., to infer more about the tone.\n"
   ]
  },
  {
   "cell_type": "code",
   "execution_count": null,
   "metadata": {},
   "outputs": [],
   "source": []
  }
 ],
 "metadata": {
  "kernelspec": {
   "display_name": "venv",
   "language": "python",
   "name": "python3"
  },
  "language_info": {
   "codemirror_mode": {
    "name": "ipython",
    "version": 3
   },
   "file_extension": ".py",
   "mimetype": "text/x-python",
   "name": "python",
   "nbconvert_exporter": "python",
   "pygments_lexer": "ipython3",
   "version": "3.9.18"
  }
 },
 "nbformat": 4,
 "nbformat_minor": 2
}
