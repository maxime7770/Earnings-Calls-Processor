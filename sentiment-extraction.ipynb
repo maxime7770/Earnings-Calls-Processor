{
 "cells": [
  {
   "cell_type": "markdown",
   "metadata": {},
   "source": []
  },
  {
   "cell_type": "code",
   "execution_count": 159,
   "metadata": {},
   "outputs": [],
   "source": [
    "import pandas as pd\n",
    "import numpy as np\n",
    "import transformers\n",
    "from tqdm import tqdm\n",
    "import pysentiment2 as ps"
   ]
  },
  {
   "cell_type": "code",
   "execution_count": 160,
   "metadata": {},
   "outputs": [],
   "source": [
    "data = pd.read_csv('EarningCallData/output.csv')"
   ]
  },
  {
   "cell_type": "code",
   "execution_count": 161,
   "metadata": {},
   "outputs": [
    {
     "data": {
      "text/plain": [
       "array([0.01014265, 0.95804197, 0.03181531], dtype=float32)"
      ]
     },
     "execution_count": 161,
     "metadata": {},
     "output_type": "execute_result"
    }
   ],
   "source": [
    "model_name = 'ProsusAI/finbert'\n",
    "tokenizer = transformers.AutoTokenizer.from_pretrained(model_name)\n",
    "model = transformers.AutoModelForSequenceClassification.from_pretrained(model_name)\n",
    "\n",
    "test = \" NVIDIA stock is going very bad, I am very sad\"\n",
    "tokenized = tokenizer(test, return_tensors='pt')\n",
    "output = model(**tokenized)\n",
    "# scores softmax\n",
    "scores = output.logits.softmax(dim=1).detach().numpy()\n",
    "scores[0]"
   ]
  },
  {
   "cell_type": "code",
   "execution_count": 162,
   "metadata": {},
   "outputs": [],
   "source": [
    "def get_sentiment_sentence_bert(text):\n",
    "    sentences = text.split('.')\n",
    "    list_sentiment = []\n",
    "    for sentence in sentences:\n",
    "        tokenized = tokenizer(sentence, return_tensors='pt')\n",
    "        output = model(**tokenized)\n",
    "        scores = output.logits.softmax(dim=1).detach().numpy()\n",
    "        list_sentiment.append(scores[0])\n",
    "    return np.mean(list_sentiment, axis=0)"
   ]
  },
  {
   "cell_type": "code",
   "execution_count": 163,
   "metadata": {},
   "outputs": [],
   "source": [
    "def get_sentiment_bert(data):\n",
    "    texts = data['text']\n",
    "    positives = []\n",
    "    negatives = []\n",
    "    neutrals = []\n",
    "    polarities = []\n",
    "    for i in tqdm(range(len(data))):\n",
    "        text = texts[i]\n",
    "        positive, negative, neutral = get_sentiment_sentence_bert(text)\n",
    "        positives.append(positive)\n",
    "        negatives.append(negative)\n",
    "        neutrals.append(neutral)\n",
    "        polarity = (positive - negative) / (positive + negative + neutral)\n",
    "        polarities.append(polarity)\n",
    "\n",
    "    \n",
    "    # new column for sentiment\n",
    "    data['positive_sentiment_bert'] = positives\n",
    "    data['negative_sentiment_bert'] = negatives\n",
    "    data['neutral_sentiment_bert'] = neutrals\n",
    "    data['polarity_bert'] = polarities\n",
    "    return data"
   ]
  },
  {
   "cell_type": "code",
   "execution_count": 164,
   "metadata": {},
   "outputs": [
    {
     "data": {
      "text/plain": [
       "array([0.11321773, 0.06799968, 0.81878257], dtype=float32)"
      ]
     },
     "execution_count": 164,
     "metadata": {},
     "output_type": "execute_result"
    }
   ],
   "source": [
    "get_sentiment_sentence_bert('''Good day, and welcome to the Apple Inc. Second Quarter Fiscal Year 2019 Earnings Conference Call. Today's call is being recorded. At this time, for opening remarks and introductions, I would like to turn the call over to Nancy Paxton, Senior Director of Investor Relations. Please go ahead.''')"
   ]
  },
  {
   "cell_type": "code",
   "execution_count": 165,
   "metadata": {},
   "outputs": [
    {
     "data": {
      "text/plain": [
       "array([0.15933189, 0.0639887 , 0.77667946], dtype=float32)"
      ]
     },
     "execution_count": 165,
     "metadata": {},
     "output_type": "execute_result"
    }
   ],
   "source": [
    "get_sentiment_sentence_bert('''Thank you. Good afternoon, and thanks to everyone for joining us today. Speaking first is Apple's CEO, Tim Cook; and he'll be followed by CFO, Luca Maestri. After that, we'll open the call to questions from analysts.\n",
    "Please note that some of the information you'll hear during our discussion today will consist of forward-looking statements, including without limitation, those regarding revenue, gross margin, operating expenses, other income and expense, taxes, capital allocation and future business outlook. Actual results or trends could differ materially from our forecast. For more information, please refer to the risk factors discussed in Apple's most recently filed periodic reports on Form 10-K and Form 10-Q and the Form 8-K filed with the SEC today along with the associated press release. Apple assumes no obligation to update any forward-looking statements or information, which speak as of their respective dates.\n",
    "I'd now like to turn the call over to Tim for introductory remarks.''')"
   ]
  },
  {
   "cell_type": "code",
   "execution_count": 166,
   "metadata": {},
   "outputs": [],
   "source": [
    "words = ['margin', 'cost', 'revenue', 'earnings', 'growth', 'debt', 'dividend', 'cashflow']\n",
    "\n",
    "def get_sentiment_topic(data, words):\n",
    "    texts = data['text'].apply(lambda x: x.lower())\n",
    "    positives = {}\n",
    "    negatives = {}\n",
    "    neutrals = {}\n",
    "    polarities = {}\n",
    "    for word in words:\n",
    "        positives[word] = []\n",
    "        negatives[word] = []\n",
    "        neutrals[word] = []\n",
    "        polarities[word] = []\n",
    "    for i in tqdm(range(len(data))):\n",
    "        text = texts[i]\n",
    "        for word in words:\n",
    "\n",
    "            if word in text:\n",
    "                positive, negative, neutral = get_sentiment_sentence_bert(text)\n",
    "                polarity = (positive - negative) / (positive + negative + neutral)\n",
    "            else:\n",
    "                positive, negative, neutral = -1, -1, -1\n",
    "                polarity = -1\n",
    "            positives[word].append(positive)\n",
    "            negatives[word].append(negative)\n",
    "            neutrals[word].append(neutral)\n",
    "            polarities[word].append(polarity)\n",
    "    for word in words:\n",
    "        data[f'positive_sentiment_bert_{word}'] = positives[word]\n",
    "        data[f'negative_sentiment_bert_{word}'] = negatives[word]\n",
    "        data[f'neutral_sentiment_bert_{word}'] = neutrals[word]\n",
    "        data[f'polarity_bert_{word}'] = polarities[word]\n",
    "    return data"
   ]
  },
  {
   "cell_type": "code",
   "execution_count": 91,
   "metadata": {},
   "outputs": [
    {
     "name": "stderr",
     "output_type": "stream",
     "text": [
      "100%|██████████| 3537/3537 [23:54<00:00,  2.47it/s]  \n",
      "100%|██████████| 3537/3537 [38:37<00:00,  1.53it/s]  \n"
     ]
    }
   ],
   "source": [
    "data = get_sentiment_bert(data)\n",
    "data = get_sentiment_topic(data, words)"
   ]
  },
  {
   "cell_type": "code",
   "execution_count": 92,
   "metadata": {},
   "outputs": [],
   "source": [
    "data.to_csv('EarningCallData/output_sentiment.csv')"
   ]
  },
  {
   "cell_type": "markdown",
   "metadata": {},
   "source": [
    "### Merging"
   ]
  },
  {
   "cell_type": "code",
   "execution_count": 127,
   "metadata": {},
   "outputs": [],
   "source": [
    "data = pd.read_csv('EarningCallData/output_sentiment.csv')"
   ]
  },
  {
   "cell_type": "code",
   "execution_count": 128,
   "metadata": {},
   "outputs": [
    {
     "data": {
      "text/plain": [
       "Index(['Unnamed: 0', 'speaker', 'text', 'type', 'speaker_type',\n",
       "       'speaker_company', 'speaker_role', 'company_name', 'date',\n",
       "       'positive_sentiment_bert', 'negative_sentiment_bert',\n",
       "       'neutral_sentiment_bert', 'polarity_bert',\n",
       "       'positive_sentiment_bert_margin', 'negative_sentiment_bert_margin',\n",
       "       'neutral_sentiment_bert_margin', 'polarity_bert_margin',\n",
       "       'positive_sentiment_bert_cost', 'negative_sentiment_bert_cost',\n",
       "       'neutral_sentiment_bert_cost', 'polarity_bert_cost',\n",
       "       'positive_sentiment_bert_revenue', 'negative_sentiment_bert_revenue',\n",
       "       'neutral_sentiment_bert_revenue', 'polarity_bert_revenue',\n",
       "       'positive_sentiment_bert_earnings', 'negative_sentiment_bert_earnings',\n",
       "       'neutral_sentiment_bert_earnings', 'polarity_bert_earnings',\n",
       "       'positive_sentiment_bert_growth', 'negative_sentiment_bert_growth',\n",
       "       'neutral_sentiment_bert_growth', 'polarity_bert_growth',\n",
       "       'positive_sentiment_bert_debt', 'negative_sentiment_bert_debt',\n",
       "       'neutral_sentiment_bert_debt', 'polarity_bert_debt',\n",
       "       'positive_sentiment_bert_dividend', 'negative_sentiment_bert_dividend',\n",
       "       'neutral_sentiment_bert_dividend', 'polarity_bert_dividend',\n",
       "       'positive_sentiment_bert_cashflow', 'negative_sentiment_bert_cashflow',\n",
       "       'neutral_sentiment_bert_cashflow', 'polarity_bert_cashflow'],\n",
       "      dtype='object')"
      ]
     },
     "execution_count": 128,
     "metadata": {},
     "output_type": "execute_result"
    }
   ],
   "source": [
    "data.columns"
   ]
  },
  {
   "cell_type": "code",
   "execution_count": 129,
   "metadata": {},
   "outputs": [],
   "source": [
    "global_sentiment_cols = ['positive_sentiment_bert', 'negative_sentiment_bert', 'neutral_sentiment_bert', 'polarity_bert']\n",
    "\n",
    "topic_sentiment_cols = [f'positive_sentiment_bert_{word}' for word in words] + [f'negative_sentiment_bert_{word}' for word in words] + [f'neutral_sentiment_bert_{word}' for word in words] + [f'polarity_bert_{word}' for word in words]"
   ]
  },
  {
   "cell_type": "code",
   "execution_count": 130,
   "metadata": {},
   "outputs": [],
   "source": [
    "def mean_company_sentiment(col):\n",
    "    return col[data['speaker_type'] == 'Corporate Participant'].mean()\n",
    "\n",
    "def mean_analyst_sentiment(col):\n",
    "    return col[data['speaker_type'] == 'Conference Participant'].mean()\n",
    "\n",
    "def mean_presentation_sentiment(col):\n",
    "    return col[data['type'] == 'presentation'].mean()\n",
    "\n",
    "def mean_qa_sentiment(col):\n",
    "    return col[data['type'] == 'qna'].mean()\n",
    "\n",
    "def mean_topic_sentiment(col):\n",
    "    return col[col != -1].mean()"
   ]
  },
  {
   "cell_type": "code",
   "execution_count": 131,
   "metadata": {},
   "outputs": [
    {
     "data": {
      "text/plain": [
       "0.30850450994062767"
      ]
     },
     "execution_count": 131,
     "metadata": {},
     "output_type": "execute_result"
    }
   ],
   "source": [
    "mean_topic_sentiment(data['positive_sentiment_bert'])"
   ]
  },
  {
   "cell_type": "code",
   "execution_count": 132,
   "metadata": {},
   "outputs": [],
   "source": [
    "# for each transcript, average global sentiment, and average sentiment per section and per speaker\n",
    "\n",
    "aggregations = dict()\n",
    "for col in global_sentiment_cols:\n",
    "    aggregations[col] = ['mean', 'std', mean_company_sentiment, mean_analyst_sentiment, mean_presentation_sentiment, mean_qa_sentiment]\n",
    "\n",
    "for col in topic_sentiment_cols:\n",
    "    aggregations[col] = [mean_topic_sentiment]\n",
    "\n",
    "data = data.groupby(['company_name', 'date'])[global_sentiment_cols + topic_sentiment_cols].agg(\n",
    "    aggregations,\n",
    ")\n"
   ]
  },
  {
   "cell_type": "code",
   "execution_count": 133,
   "metadata": {},
   "outputs": [],
   "source": [
    "data.columns = ['_'.join(col).strip() for col in data.columns.values]\n"
   ]
  },
  {
   "cell_type": "code",
   "execution_count": 134,
   "metadata": {},
   "outputs": [
    {
     "data": {
      "text/html": [
       "<div>\n",
       "<style scoped>\n",
       "    .dataframe tbody tr th:only-of-type {\n",
       "        vertical-align: middle;\n",
       "    }\n",
       "\n",
       "    .dataframe tbody tr th {\n",
       "        vertical-align: top;\n",
       "    }\n",
       "\n",
       "    .dataframe thead th {\n",
       "        text-align: right;\n",
       "    }\n",
       "</style>\n",
       "<table border=\"1\" class=\"dataframe\">\n",
       "  <thead>\n",
       "    <tr style=\"text-align: right;\">\n",
       "      <th></th>\n",
       "      <th></th>\n",
       "      <th>positive_sentiment_bert_mean</th>\n",
       "      <th>positive_sentiment_bert_std</th>\n",
       "      <th>positive_sentiment_bert_mean_company_sentiment</th>\n",
       "      <th>positive_sentiment_bert_mean_analyst_sentiment</th>\n",
       "      <th>positive_sentiment_bert_mean_presentation_sentiment</th>\n",
       "      <th>positive_sentiment_bert_mean_qa_sentiment</th>\n",
       "      <th>negative_sentiment_bert_mean</th>\n",
       "      <th>negative_sentiment_bert_std</th>\n",
       "      <th>negative_sentiment_bert_mean_company_sentiment</th>\n",
       "      <th>negative_sentiment_bert_mean_analyst_sentiment</th>\n",
       "      <th>...</th>\n",
       "      <th>neutral_sentiment_bert_dividend_mean_topic_sentiment</th>\n",
       "      <th>neutral_sentiment_bert_cashflow_mean_topic_sentiment</th>\n",
       "      <th>polarity_bert_margin_mean_topic_sentiment</th>\n",
       "      <th>polarity_bert_cost_mean_topic_sentiment</th>\n",
       "      <th>polarity_bert_revenue_mean_topic_sentiment</th>\n",
       "      <th>polarity_bert_earnings_mean_topic_sentiment</th>\n",
       "      <th>polarity_bert_growth_mean_topic_sentiment</th>\n",
       "      <th>polarity_bert_debt_mean_topic_sentiment</th>\n",
       "      <th>polarity_bert_dividend_mean_topic_sentiment</th>\n",
       "      <th>polarity_bert_cashflow_mean_topic_sentiment</th>\n",
       "    </tr>\n",
       "    <tr>\n",
       "      <th>company_name</th>\n",
       "      <th>date</th>\n",
       "      <th></th>\n",
       "      <th></th>\n",
       "      <th></th>\n",
       "      <th></th>\n",
       "      <th></th>\n",
       "      <th></th>\n",
       "      <th></th>\n",
       "      <th></th>\n",
       "      <th></th>\n",
       "      <th></th>\n",
       "      <th></th>\n",
       "      <th></th>\n",
       "      <th></th>\n",
       "      <th></th>\n",
       "      <th></th>\n",
       "      <th></th>\n",
       "      <th></th>\n",
       "      <th></th>\n",
       "      <th></th>\n",
       "      <th></th>\n",
       "      <th></th>\n",
       "    </tr>\n",
       "  </thead>\n",
       "  <tbody>\n",
       "    <tr>\n",
       "      <th rowspan=\"5\" valign=\"top\">AAPL.OQ</th>\n",
       "      <th>2019-Apr-30</th>\n",
       "      <td>0.315635</td>\n",
       "      <td>0.107936</td>\n",
       "      <td>0.341883</td>\n",
       "      <td>0.247137</td>\n",
       "      <td>0.293498</td>\n",
       "      <td>0.318709</td>\n",
       "      <td>0.208156</td>\n",
       "      <td>0.119192</td>\n",
       "      <td>0.206948</td>\n",
       "      <td>0.204041</td>\n",
       "      <td>...</td>\n",
       "      <td>0.424185</td>\n",
       "      <td>NaN</td>\n",
       "      <td>0.011091</td>\n",
       "      <td>0.142511</td>\n",
       "      <td>0.112086</td>\n",
       "      <td>0.077188</td>\n",
       "      <td>0.142511</td>\n",
       "      <td>0.142511</td>\n",
       "      <td>0.142511</td>\n",
       "      <td>NaN</td>\n",
       "    </tr>\n",
       "    <tr>\n",
       "      <th>2019-Jan-29</th>\n",
       "      <td>0.302514</td>\n",
       "      <td>0.120256</td>\n",
       "      <td>0.336850</td>\n",
       "      <td>0.211356</td>\n",
       "      <td>0.292223</td>\n",
       "      <td>0.304420</td>\n",
       "      <td>0.198709</td>\n",
       "      <td>0.094536</td>\n",
       "      <td>0.205133</td>\n",
       "      <td>0.176514</td>\n",
       "      <td>...</td>\n",
       "      <td>0.424185</td>\n",
       "      <td>NaN</td>\n",
       "      <td>0.132753</td>\n",
       "      <td>0.101544</td>\n",
       "      <td>0.124304</td>\n",
       "      <td>0.142511</td>\n",
       "      <td>0.128850</td>\n",
       "      <td>0.142511</td>\n",
       "      <td>0.142511</td>\n",
       "      <td>NaN</td>\n",
       "    </tr>\n",
       "    <tr>\n",
       "      <th>2019-Jul-30</th>\n",
       "      <td>0.286711</td>\n",
       "      <td>0.130435</td>\n",
       "      <td>0.341883</td>\n",
       "      <td>0.155914</td>\n",
       "      <td>0.293498</td>\n",
       "      <td>0.285768</td>\n",
       "      <td>0.174392</td>\n",
       "      <td>0.078805</td>\n",
       "      <td>0.206948</td>\n",
       "      <td>0.097553</td>\n",
       "      <td>...</td>\n",
       "      <td>0.424185</td>\n",
       "      <td>NaN</td>\n",
       "      <td>0.110102</td>\n",
       "      <td>0.142511</td>\n",
       "      <td>0.129643</td>\n",
       "      <td>0.142511</td>\n",
       "      <td>0.099923</td>\n",
       "      <td>0.142511</td>\n",
       "      <td>0.142511</td>\n",
       "      <td>NaN</td>\n",
       "    </tr>\n",
       "    <tr>\n",
       "      <th>2019-Oct-30</th>\n",
       "      <td>0.289265</td>\n",
       "      <td>0.128467</td>\n",
       "      <td>0.344239</td>\n",
       "      <td>0.174357</td>\n",
       "      <td>0.293498</td>\n",
       "      <td>0.288761</td>\n",
       "      <td>0.177545</td>\n",
       "      <td>0.073984</td>\n",
       "      <td>0.208271</td>\n",
       "      <td>0.113300</td>\n",
       "      <td>...</td>\n",
       "      <td>0.424185</td>\n",
       "      <td>NaN</td>\n",
       "      <td>0.110133</td>\n",
       "      <td>0.142511</td>\n",
       "      <td>0.089168</td>\n",
       "      <td>0.142511</td>\n",
       "      <td>0.107666</td>\n",
       "      <td>0.142511</td>\n",
       "      <td>0.142511</td>\n",
       "      <td>NaN</td>\n",
       "    </tr>\n",
       "    <tr>\n",
       "      <th>2020-Apr-30</th>\n",
       "      <td>0.306463</td>\n",
       "      <td>0.112452</td>\n",
       "      <td>0.342747</td>\n",
       "      <td>0.226466</td>\n",
       "      <td>0.293498</td>\n",
       "      <td>0.308126</td>\n",
       "      <td>0.194835</td>\n",
       "      <td>0.078818</td>\n",
       "      <td>0.207433</td>\n",
       "      <td>0.164946</td>\n",
       "      <td>...</td>\n",
       "      <td>0.424185</td>\n",
       "      <td>NaN</td>\n",
       "      <td>0.148952</td>\n",
       "      <td>0.142511</td>\n",
       "      <td>0.142511</td>\n",
       "      <td>0.142511</td>\n",
       "      <td>0.142511</td>\n",
       "      <td>0.142511</td>\n",
       "      <td>0.142511</td>\n",
       "      <td>NaN</td>\n",
       "    </tr>\n",
       "  </tbody>\n",
       "</table>\n",
       "<p>5 rows × 56 columns</p>\n",
       "</div>"
      ],
      "text/plain": [
       "                          positive_sentiment_bert_mean  \\\n",
       "company_name date                                        \n",
       "AAPL.OQ      2019-Apr-30                      0.315635   \n",
       "             2019-Jan-29                      0.302514   \n",
       "             2019-Jul-30                      0.286711   \n",
       "             2019-Oct-30                      0.289265   \n",
       "             2020-Apr-30                      0.306463   \n",
       "\n",
       "                          positive_sentiment_bert_std  \\\n",
       "company_name date                                       \n",
       "AAPL.OQ      2019-Apr-30                     0.107936   \n",
       "             2019-Jan-29                     0.120256   \n",
       "             2019-Jul-30                     0.130435   \n",
       "             2019-Oct-30                     0.128467   \n",
       "             2020-Apr-30                     0.112452   \n",
       "\n",
       "                          positive_sentiment_bert_mean_company_sentiment  \\\n",
       "company_name date                                                          \n",
       "AAPL.OQ      2019-Apr-30                                        0.341883   \n",
       "             2019-Jan-29                                        0.336850   \n",
       "             2019-Jul-30                                        0.341883   \n",
       "             2019-Oct-30                                        0.344239   \n",
       "             2020-Apr-30                                        0.342747   \n",
       "\n",
       "                          positive_sentiment_bert_mean_analyst_sentiment  \\\n",
       "company_name date                                                          \n",
       "AAPL.OQ      2019-Apr-30                                        0.247137   \n",
       "             2019-Jan-29                                        0.211356   \n",
       "             2019-Jul-30                                        0.155914   \n",
       "             2019-Oct-30                                        0.174357   \n",
       "             2020-Apr-30                                        0.226466   \n",
       "\n",
       "                          positive_sentiment_bert_mean_presentation_sentiment  \\\n",
       "company_name date                                                               \n",
       "AAPL.OQ      2019-Apr-30                                           0.293498     \n",
       "             2019-Jan-29                                           0.292223     \n",
       "             2019-Jul-30                                           0.293498     \n",
       "             2019-Oct-30                                           0.293498     \n",
       "             2020-Apr-30                                           0.293498     \n",
       "\n",
       "                          positive_sentiment_bert_mean_qa_sentiment  \\\n",
       "company_name date                                                     \n",
       "AAPL.OQ      2019-Apr-30                                   0.318709   \n",
       "             2019-Jan-29                                   0.304420   \n",
       "             2019-Jul-30                                   0.285768   \n",
       "             2019-Oct-30                                   0.288761   \n",
       "             2020-Apr-30                                   0.308126   \n",
       "\n",
       "                          negative_sentiment_bert_mean  \\\n",
       "company_name date                                        \n",
       "AAPL.OQ      2019-Apr-30                      0.208156   \n",
       "             2019-Jan-29                      0.198709   \n",
       "             2019-Jul-30                      0.174392   \n",
       "             2019-Oct-30                      0.177545   \n",
       "             2020-Apr-30                      0.194835   \n",
       "\n",
       "                          negative_sentiment_bert_std  \\\n",
       "company_name date                                       \n",
       "AAPL.OQ      2019-Apr-30                     0.119192   \n",
       "             2019-Jan-29                     0.094536   \n",
       "             2019-Jul-30                     0.078805   \n",
       "             2019-Oct-30                     0.073984   \n",
       "             2020-Apr-30                     0.078818   \n",
       "\n",
       "                          negative_sentiment_bert_mean_company_sentiment  \\\n",
       "company_name date                                                          \n",
       "AAPL.OQ      2019-Apr-30                                        0.206948   \n",
       "             2019-Jan-29                                        0.205133   \n",
       "             2019-Jul-30                                        0.206948   \n",
       "             2019-Oct-30                                        0.208271   \n",
       "             2020-Apr-30                                        0.207433   \n",
       "\n",
       "                          negative_sentiment_bert_mean_analyst_sentiment  ...  \\\n",
       "company_name date                                                         ...   \n",
       "AAPL.OQ      2019-Apr-30                                        0.204041  ...   \n",
       "             2019-Jan-29                                        0.176514  ...   \n",
       "             2019-Jul-30                                        0.097553  ...   \n",
       "             2019-Oct-30                                        0.113300  ...   \n",
       "             2020-Apr-30                                        0.164946  ...   \n",
       "\n",
       "                          neutral_sentiment_bert_dividend_mean_topic_sentiment  \\\n",
       "company_name date                                                                \n",
       "AAPL.OQ      2019-Apr-30                                           0.424185      \n",
       "             2019-Jan-29                                           0.424185      \n",
       "             2019-Jul-30                                           0.424185      \n",
       "             2019-Oct-30                                           0.424185      \n",
       "             2020-Apr-30                                           0.424185      \n",
       "\n",
       "                          neutral_sentiment_bert_cashflow_mean_topic_sentiment  \\\n",
       "company_name date                                                                \n",
       "AAPL.OQ      2019-Apr-30                                                NaN      \n",
       "             2019-Jan-29                                                NaN      \n",
       "             2019-Jul-30                                                NaN      \n",
       "             2019-Oct-30                                                NaN      \n",
       "             2020-Apr-30                                                NaN      \n",
       "\n",
       "                          polarity_bert_margin_mean_topic_sentiment  \\\n",
       "company_name date                                                     \n",
       "AAPL.OQ      2019-Apr-30                                   0.011091   \n",
       "             2019-Jan-29                                   0.132753   \n",
       "             2019-Jul-30                                   0.110102   \n",
       "             2019-Oct-30                                   0.110133   \n",
       "             2020-Apr-30                                   0.148952   \n",
       "\n",
       "                          polarity_bert_cost_mean_topic_sentiment  \\\n",
       "company_name date                                                   \n",
       "AAPL.OQ      2019-Apr-30                                 0.142511   \n",
       "             2019-Jan-29                                 0.101544   \n",
       "             2019-Jul-30                                 0.142511   \n",
       "             2019-Oct-30                                 0.142511   \n",
       "             2020-Apr-30                                 0.142511   \n",
       "\n",
       "                          polarity_bert_revenue_mean_topic_sentiment  \\\n",
       "company_name date                                                      \n",
       "AAPL.OQ      2019-Apr-30                                    0.112086   \n",
       "             2019-Jan-29                                    0.124304   \n",
       "             2019-Jul-30                                    0.129643   \n",
       "             2019-Oct-30                                    0.089168   \n",
       "             2020-Apr-30                                    0.142511   \n",
       "\n",
       "                          polarity_bert_earnings_mean_topic_sentiment  \\\n",
       "company_name date                                                       \n",
       "AAPL.OQ      2019-Apr-30                                     0.077188   \n",
       "             2019-Jan-29                                     0.142511   \n",
       "             2019-Jul-30                                     0.142511   \n",
       "             2019-Oct-30                                     0.142511   \n",
       "             2020-Apr-30                                     0.142511   \n",
       "\n",
       "                          polarity_bert_growth_mean_topic_sentiment  \\\n",
       "company_name date                                                     \n",
       "AAPL.OQ      2019-Apr-30                                   0.142511   \n",
       "             2019-Jan-29                                   0.128850   \n",
       "             2019-Jul-30                                   0.099923   \n",
       "             2019-Oct-30                                   0.107666   \n",
       "             2020-Apr-30                                   0.142511   \n",
       "\n",
       "                          polarity_bert_debt_mean_topic_sentiment  \\\n",
       "company_name date                                                   \n",
       "AAPL.OQ      2019-Apr-30                                 0.142511   \n",
       "             2019-Jan-29                                 0.142511   \n",
       "             2019-Jul-30                                 0.142511   \n",
       "             2019-Oct-30                                 0.142511   \n",
       "             2020-Apr-30                                 0.142511   \n",
       "\n",
       "                          polarity_bert_dividend_mean_topic_sentiment  \\\n",
       "company_name date                                                       \n",
       "AAPL.OQ      2019-Apr-30                                     0.142511   \n",
       "             2019-Jan-29                                     0.142511   \n",
       "             2019-Jul-30                                     0.142511   \n",
       "             2019-Oct-30                                     0.142511   \n",
       "             2020-Apr-30                                     0.142511   \n",
       "\n",
       "                          polarity_bert_cashflow_mean_topic_sentiment  \n",
       "company_name date                                                      \n",
       "AAPL.OQ      2019-Apr-30                                          NaN  \n",
       "             2019-Jan-29                                          NaN  \n",
       "             2019-Jul-30                                          NaN  \n",
       "             2019-Oct-30                                          NaN  \n",
       "             2020-Apr-30                                          NaN  \n",
       "\n",
       "[5 rows x 56 columns]"
      ]
     },
     "execution_count": 134,
     "metadata": {},
     "output_type": "execute_result"
    }
   ],
   "source": [
    "data.head()"
   ]
  },
  {
   "cell_type": "code",
   "execution_count": 135,
   "metadata": {},
   "outputs": [],
   "source": [
    "data.to_csv('EarningCallData/output_sentiment_aggregated.csv')"
   ]
  },
  {
   "cell_type": "markdown",
   "metadata": {},
   "source": [
    "## TEST"
   ]
  },
  {
   "cell_type": "code",
   "execution_count": 82,
   "metadata": {},
   "outputs": [],
   "source": [
    "# pysentiment analysis\n",
    "\n",
    "# using HIV-4\n",
    "def get_sentiment_text_hiv4(text):\n",
    "    sentences = text.split('.')\n",
    "    list_sentiment = []\n",
    "    for sentence in sentences:\n",
    "        hiv4 = ps.HIV4()\n",
    "        tokens = hiv4.tokenize(sentence)\n",
    "        score = list(hiv4.get_score(tokens).values())\n",
    "        list_sentiment.append(score)\n",
    "    return np.mean(list_sentiment, axis=0)\n",
    "        \n",
    "\n",
    "# using loughran mcdonald\n",
    "def get_sentiment_text_lm(text):\n",
    "    sentences = text.split('.')\n",
    "    list_sentiment = []\n",
    "    for sentence in sentences:\n",
    "        lm = ps.LM()\n",
    "        tokens = lm.tokenize(sentence)\n",
    "        score = list(lm.get_score(tokens).values())\n",
    "        list_sentiment.append(score)\n",
    "    return np.mean(list_sentiment, axis=0)"
   ]
  },
  {
   "cell_type": "code",
   "execution_count": 83,
   "metadata": {},
   "outputs": [],
   "source": [
    "def get_sentiment_pysentiment(data):\n",
    "    texts = data['text']\n",
    "    positives_hiv4 = []\n",
    "    negatives_hiv4 = []\n",
    "    polarities_hiv4 = []\n",
    "    subjectivities_hiv4 = []\n",
    "    positives_lm = []\n",
    "    negatives_lm = []\n",
    "    polarities_lm = []\n",
    "    subjectivities_lm = []\n",
    "    for i in tqdm(range(len(data))):\n",
    "        text = texts[i]\n",
    "        positive_hiv4, negative_hiv4, polarity_hiv4, subjectivity_hiv4 = get_sentiment_text_hiv4(text)\n",
    "        positive_lm, negative_lm, polarity_lm, subjectivity_lm = get_sentiment_text_lm(text)\n",
    "        positives_hiv4.append(positive_hiv4)\n",
    "        negatives_hiv4.append(negative_hiv4)\n",
    "        polarities_hiv4.append(polarity_hiv4)\n",
    "        subjectivities_hiv4.append(subjectivity_hiv4)\n",
    "        positives_lm.append(positive_lm)\n",
    "        negatives_lm.append(negative_lm)\n",
    "        polarities_lm.append(polarity_lm)\n",
    "        subjectivities_lm.append(subjectivity_lm)\n",
    "    data['positive_sentiment_hiv4'] = positives_hiv4\n",
    "    data['negative_sentiment_hiv4'] = negatives_hiv4\n",
    "    data['polarity_hiv4'] = polarities_hiv4\n",
    "    data['subjectivity_hiv4'] = subjectivities_hiv4\n",
    "    data['positive_sentiment_lm'] = positives_lm\n",
    "    data['negative_sentiment_lm'] = negatives_lm\n",
    "    data['polarity_lm'] = polarities_lm\n",
    "    data['subjectivity_lm'] = subjectivities_lm\n",
    "    return data"
   ]
  },
  {
   "cell_type": "code",
   "execution_count": 84,
   "metadata": {},
   "outputs": [
    {
     "name": "stderr",
     "output_type": "stream",
     "text": [
      "  0%|          | 2/3537 [01:00<29:29:36, 30.04s/it]\n"
     ]
    },
    {
     "ename": "KeyboardInterrupt",
     "evalue": "",
     "output_type": "error",
     "traceback": [
      "\u001b[0;31m---------------------------------------------------------------------------\u001b[0m",
      "\u001b[0;31mKeyboardInterrupt\u001b[0m                         Traceback (most recent call last)",
      "\u001b[1;32m/Users/maxime/Desktop/Projects/Earning-Calls-Processor/sentiment-extraction.ipynb Cell 12\u001b[0m line \u001b[0;36m1\n\u001b[0;32m----> <a href='vscode-notebook-cell:/Users/maxime/Desktop/Projects/Earning-Calls-Processor/sentiment-extraction.ipynb#X22sZmlsZQ%3D%3D?line=0'>1</a>\u001b[0m data \u001b[39m=\u001b[39m get_sentiment_pysentiment(data)\n",
      "\u001b[1;32m/Users/maxime/Desktop/Projects/Earning-Calls-Processor/sentiment-extraction.ipynb Cell 12\u001b[0m line \u001b[0;36m1\n\u001b[1;32m     <a href='vscode-notebook-cell:/Users/maxime/Desktop/Projects/Earning-Calls-Processor/sentiment-extraction.ipynb#X22sZmlsZQ%3D%3D?line=10'>11</a>\u001b[0m \u001b[39mfor\u001b[39;00m i \u001b[39min\u001b[39;00m tqdm(\u001b[39mrange\u001b[39m(\u001b[39mlen\u001b[39m(data))):\n\u001b[1;32m     <a href='vscode-notebook-cell:/Users/maxime/Desktop/Projects/Earning-Calls-Processor/sentiment-extraction.ipynb#X22sZmlsZQ%3D%3D?line=11'>12</a>\u001b[0m     text \u001b[39m=\u001b[39m texts[i]\n\u001b[0;32m---> <a href='vscode-notebook-cell:/Users/maxime/Desktop/Projects/Earning-Calls-Processor/sentiment-extraction.ipynb#X22sZmlsZQ%3D%3D?line=12'>13</a>\u001b[0m     positive_hiv4, negative_hiv4, polarity_hiv4, subjectivity_hiv4 \u001b[39m=\u001b[39m get_sentiment_text_hiv4(text)\n\u001b[1;32m     <a href='vscode-notebook-cell:/Users/maxime/Desktop/Projects/Earning-Calls-Processor/sentiment-extraction.ipynb#X22sZmlsZQ%3D%3D?line=13'>14</a>\u001b[0m     positive_lm, negative_lm, polarity_lm, subjectivity_lm \u001b[39m=\u001b[39m get_sentiment_text_lm(text)\n\u001b[1;32m     <a href='vscode-notebook-cell:/Users/maxime/Desktop/Projects/Earning-Calls-Processor/sentiment-extraction.ipynb#X22sZmlsZQ%3D%3D?line=14'>15</a>\u001b[0m     positives_hiv4\u001b[39m.\u001b[39mappend(positive_hiv4)\n",
      "\u001b[1;32m/Users/maxime/Desktop/Projects/Earning-Calls-Processor/sentiment-extraction.ipynb Cell 12\u001b[0m line \u001b[0;36m8\n\u001b[1;32m      <a href='vscode-notebook-cell:/Users/maxime/Desktop/Projects/Earning-Calls-Processor/sentiment-extraction.ipynb#X22sZmlsZQ%3D%3D?line=5'>6</a>\u001b[0m list_sentiment \u001b[39m=\u001b[39m []\n\u001b[1;32m      <a href='vscode-notebook-cell:/Users/maxime/Desktop/Projects/Earning-Calls-Processor/sentiment-extraction.ipynb#X22sZmlsZQ%3D%3D?line=6'>7</a>\u001b[0m \u001b[39mfor\u001b[39;00m sentence \u001b[39min\u001b[39;00m sentences:\n\u001b[0;32m----> <a href='vscode-notebook-cell:/Users/maxime/Desktop/Projects/Earning-Calls-Processor/sentiment-extraction.ipynb#X22sZmlsZQ%3D%3D?line=7'>8</a>\u001b[0m     hiv4 \u001b[39m=\u001b[39m ps\u001b[39m.\u001b[39;49mHIV4()\n\u001b[1;32m      <a href='vscode-notebook-cell:/Users/maxime/Desktop/Projects/Earning-Calls-Processor/sentiment-extraction.ipynb#X22sZmlsZQ%3D%3D?line=8'>9</a>\u001b[0m     tokens \u001b[39m=\u001b[39m hiv4\u001b[39m.\u001b[39mtokenize(sentence)\n\u001b[1;32m     <a href='vscode-notebook-cell:/Users/maxime/Desktop/Projects/Earning-Calls-Processor/sentiment-extraction.ipynb#X22sZmlsZQ%3D%3D?line=9'>10</a>\u001b[0m     score \u001b[39m=\u001b[39m \u001b[39mlist\u001b[39m(hiv4\u001b[39m.\u001b[39mget_score(tokens)\u001b[39m.\u001b[39mvalues())\n",
      "File \u001b[0;32m~/Desktop/Projects/Earning-Calls-Processor/venv/lib/python3.9/site-packages/pysentiment2/base.py:58\u001b[0m, in \u001b[0;36mBaseDict.__init__\u001b[0;34m(self, tokenizer)\u001b[0m\n\u001b[1;32m     56\u001b[0m \u001b[39melse\u001b[39;00m:\n\u001b[1;32m     57\u001b[0m     \u001b[39mself\u001b[39m\u001b[39m.\u001b[39m_tokenizer \u001b[39m=\u001b[39m tokenizer\n\u001b[0;32m---> 58\u001b[0m \u001b[39mself\u001b[39;49m\u001b[39m.\u001b[39;49minit_dict()\n\u001b[1;32m     60\u001b[0m \u001b[39massert\u001b[39;00m \u001b[39mlen\u001b[39m(\u001b[39mself\u001b[39m\u001b[39m.\u001b[39m_posset) \u001b[39m>\u001b[39m \u001b[39m0\u001b[39m \u001b[39mand\u001b[39;00m \u001b[39mlen\u001b[39m(\u001b[39mself\u001b[39m\u001b[39m.\u001b[39m_negset) \u001b[39m>\u001b[39m \u001b[39m0\u001b[39m\n",
      "File \u001b[0;32m~/Desktop/Projects/Earning-Calls-Processor/venv/lib/python3.9/site-packages/pysentiment2/hiv4.py:18\u001b[0m, in \u001b[0;36mHIV4.init_dict\u001b[0;34m(self)\u001b[0m\n\u001b[1;32m     16\u001b[0m data \u001b[39m=\u001b[39m pd\u001b[39m.\u001b[39mread_csv(\u001b[39mself\u001b[39m\u001b[39m.\u001b[39mPATH, dtype\u001b[39m=\u001b[39m\u001b[39m'\u001b[39m\u001b[39mcategory\u001b[39m\u001b[39m'\u001b[39m)\n\u001b[1;32m     17\u001b[0m \u001b[39mself\u001b[39m\u001b[39m.\u001b[39m_posset \u001b[39m=\u001b[39m \u001b[39mset\u001b[39m(data\u001b[39m.\u001b[39mquery(\u001b[39m'\u001b[39m\u001b[39mPositiv == \u001b[39m\u001b[39m\"\u001b[39m\u001b[39mPositiv\u001b[39m\u001b[39m\"\u001b[39m\u001b[39m'\u001b[39m)[\u001b[39m'\u001b[39m\u001b[39mEntry\u001b[39m\u001b[39m'\u001b[39m]\u001b[39m.\u001b[39mapply(\u001b[39mself\u001b[39m\u001b[39m.\u001b[39mtokenize_first)\u001b[39m.\u001b[39mdropna())\n\u001b[0;32m---> 18\u001b[0m \u001b[39mself\u001b[39m\u001b[39m.\u001b[39m_negset \u001b[39m=\u001b[39m \u001b[39mset\u001b[39m(data\u001b[39m.\u001b[39;49mquery(\u001b[39m'\u001b[39;49m\u001b[39mNegativ == \u001b[39;49m\u001b[39m\"\u001b[39;49m\u001b[39mNegativ\u001b[39;49m\u001b[39m\"\u001b[39;49m\u001b[39m'\u001b[39;49m)[\u001b[39m'\u001b[39;49m\u001b[39mEntry\u001b[39;49m\u001b[39m'\u001b[39;49m]\u001b[39m.\u001b[39;49mapply(\u001b[39mself\u001b[39;49m\u001b[39m.\u001b[39;49mtokenize_first)\u001b[39m.\u001b[39mdropna())\n",
      "File \u001b[0;32m~/Desktop/Projects/Earning-Calls-Processor/venv/lib/python3.9/site-packages/pandas/core/series.py:4908\u001b[0m, in \u001b[0;36mSeries.apply\u001b[0;34m(self, func, convert_dtype, args, by_row, **kwargs)\u001b[0m\n\u001b[1;32m   4780\u001b[0m \u001b[39mdef\u001b[39;00m \u001b[39mapply\u001b[39m(\n\u001b[1;32m   4781\u001b[0m     \u001b[39mself\u001b[39m,\n\u001b[1;32m   4782\u001b[0m     func: AggFuncType,\n\u001b[0;32m   (...)\u001b[0m\n\u001b[1;32m   4787\u001b[0m     \u001b[39m*\u001b[39m\u001b[39m*\u001b[39mkwargs,\n\u001b[1;32m   4788\u001b[0m ) \u001b[39m-\u001b[39m\u001b[39m>\u001b[39m DataFrame \u001b[39m|\u001b[39m Series:\n\u001b[1;32m   4789\u001b[0m \u001b[39m    \u001b[39m\u001b[39m\"\"\"\u001b[39;00m\n\u001b[1;32m   4790\u001b[0m \u001b[39m    Invoke function on values of Series.\u001b[39;00m\n\u001b[1;32m   4791\u001b[0m \n\u001b[0;32m   (...)\u001b[0m\n\u001b[1;32m   4906\u001b[0m \u001b[39m    dtype: float64\u001b[39;00m\n\u001b[1;32m   4907\u001b[0m \u001b[39m    \"\"\"\u001b[39;00m\n\u001b[0;32m-> 4908\u001b[0m     \u001b[39mreturn\u001b[39;00m SeriesApply(\n\u001b[1;32m   4909\u001b[0m         \u001b[39mself\u001b[39;49m,\n\u001b[1;32m   4910\u001b[0m         func,\n\u001b[1;32m   4911\u001b[0m         convert_dtype\u001b[39m=\u001b[39;49mconvert_dtype,\n\u001b[1;32m   4912\u001b[0m         by_row\u001b[39m=\u001b[39;49mby_row,\n\u001b[1;32m   4913\u001b[0m         args\u001b[39m=\u001b[39;49margs,\n\u001b[1;32m   4914\u001b[0m         kwargs\u001b[39m=\u001b[39;49mkwargs,\n\u001b[1;32m   4915\u001b[0m     )\u001b[39m.\u001b[39;49mapply()\n",
      "File \u001b[0;32m~/Desktop/Projects/Earning-Calls-Processor/venv/lib/python3.9/site-packages/pandas/core/apply.py:1427\u001b[0m, in \u001b[0;36mSeriesApply.apply\u001b[0;34m(self)\u001b[0m\n\u001b[1;32m   1424\u001b[0m     \u001b[39mreturn\u001b[39;00m \u001b[39mself\u001b[39m\u001b[39m.\u001b[39mapply_compat()\n\u001b[1;32m   1426\u001b[0m \u001b[39m# self.func is Callable\u001b[39;00m\n\u001b[0;32m-> 1427\u001b[0m \u001b[39mreturn\u001b[39;00m \u001b[39mself\u001b[39;49m\u001b[39m.\u001b[39;49mapply_standard()\n",
      "File \u001b[0;32m~/Desktop/Projects/Earning-Calls-Processor/venv/lib/python3.9/site-packages/pandas/core/apply.py:1507\u001b[0m, in \u001b[0;36mSeriesApply.apply_standard\u001b[0;34m(self)\u001b[0m\n\u001b[1;32m   1501\u001b[0m \u001b[39m# row-wise access\u001b[39;00m\n\u001b[1;32m   1502\u001b[0m \u001b[39m# apply doesn't have a `na_action` keyword and for backward compat reasons\u001b[39;00m\n\u001b[1;32m   1503\u001b[0m \u001b[39m# we need to give `na_action=\"ignore\"` for categorical data.\u001b[39;00m\n\u001b[1;32m   1504\u001b[0m \u001b[39m# TODO: remove the `na_action=\"ignore\"` when that default has been changed in\u001b[39;00m\n\u001b[1;32m   1505\u001b[0m \u001b[39m#  Categorical (GH51645).\u001b[39;00m\n\u001b[1;32m   1506\u001b[0m action \u001b[39m=\u001b[39m \u001b[39m\"\u001b[39m\u001b[39mignore\u001b[39m\u001b[39m\"\u001b[39m \u001b[39mif\u001b[39;00m \u001b[39misinstance\u001b[39m(obj\u001b[39m.\u001b[39mdtype, CategoricalDtype) \u001b[39melse\u001b[39;00m \u001b[39mNone\u001b[39;00m\n\u001b[0;32m-> 1507\u001b[0m mapped \u001b[39m=\u001b[39m obj\u001b[39m.\u001b[39;49m_map_values(\n\u001b[1;32m   1508\u001b[0m     mapper\u001b[39m=\u001b[39;49mcurried, na_action\u001b[39m=\u001b[39;49maction, convert\u001b[39m=\u001b[39;49m\u001b[39mself\u001b[39;49m\u001b[39m.\u001b[39;49mconvert_dtype\n\u001b[1;32m   1509\u001b[0m )\n\u001b[1;32m   1511\u001b[0m \u001b[39mif\u001b[39;00m \u001b[39mlen\u001b[39m(mapped) \u001b[39mand\u001b[39;00m \u001b[39misinstance\u001b[39m(mapped[\u001b[39m0\u001b[39m], ABCSeries):\n\u001b[1;32m   1512\u001b[0m     \u001b[39m# GH#43986 Need to do list(mapped) in order to get treated as nested\u001b[39;00m\n\u001b[1;32m   1513\u001b[0m     \u001b[39m#  See also GH#25959 regarding EA support\u001b[39;00m\n\u001b[1;32m   1514\u001b[0m     \u001b[39mreturn\u001b[39;00m obj\u001b[39m.\u001b[39m_constructor_expanddim(\u001b[39mlist\u001b[39m(mapped), index\u001b[39m=\u001b[39mobj\u001b[39m.\u001b[39mindex)\n",
      "File \u001b[0;32m~/Desktop/Projects/Earning-Calls-Processor/venv/lib/python3.9/site-packages/pandas/core/base.py:919\u001b[0m, in \u001b[0;36mIndexOpsMixin._map_values\u001b[0;34m(self, mapper, na_action, convert)\u001b[0m\n\u001b[1;32m    916\u001b[0m arr \u001b[39m=\u001b[39m \u001b[39mself\u001b[39m\u001b[39m.\u001b[39m_values\n\u001b[1;32m    918\u001b[0m \u001b[39mif\u001b[39;00m \u001b[39misinstance\u001b[39m(arr, ExtensionArray):\n\u001b[0;32m--> 919\u001b[0m     \u001b[39mreturn\u001b[39;00m arr\u001b[39m.\u001b[39;49mmap(mapper, na_action\u001b[39m=\u001b[39;49mna_action)\n\u001b[1;32m    921\u001b[0m \u001b[39mreturn\u001b[39;00m algorithms\u001b[39m.\u001b[39mmap_array(arr, mapper, na_action\u001b[39m=\u001b[39mna_action, convert\u001b[39m=\u001b[39mconvert)\n",
      "File \u001b[0;32m~/Desktop/Projects/Earning-Calls-Processor/venv/lib/python3.9/site-packages/pandas/core/arrays/categorical.py:1557\u001b[0m, in \u001b[0;36mCategorical.map\u001b[0;34m(self, mapper, na_action)\u001b[0m\n\u001b[1;32m   1553\u001b[0m     na_action \u001b[39m=\u001b[39m \u001b[39m\"\u001b[39m\u001b[39mignore\u001b[39m\u001b[39m\"\u001b[39m\n\u001b[1;32m   1555\u001b[0m \u001b[39massert\u001b[39;00m \u001b[39mcallable\u001b[39m(mapper) \u001b[39mor\u001b[39;00m is_dict_like(mapper)\n\u001b[0;32m-> 1557\u001b[0m new_categories \u001b[39m=\u001b[39m \u001b[39mself\u001b[39;49m\u001b[39m.\u001b[39;49mcategories\u001b[39m.\u001b[39;49mmap(mapper)\n\u001b[1;32m   1559\u001b[0m has_nans \u001b[39m=\u001b[39m np\u001b[39m.\u001b[39many(\u001b[39mself\u001b[39m\u001b[39m.\u001b[39m_codes \u001b[39m==\u001b[39m \u001b[39m-\u001b[39m\u001b[39m1\u001b[39m)\n\u001b[1;32m   1561\u001b[0m na_val \u001b[39m=\u001b[39m np\u001b[39m.\u001b[39mnan\n",
      "File \u001b[0;32m~/Desktop/Projects/Earning-Calls-Processor/venv/lib/python3.9/site-packages/pandas/core/indexes/base.py:6491\u001b[0m, in \u001b[0;36mIndex.map\u001b[0;34m(self, mapper, na_action)\u001b[0m\n\u001b[1;32m   6455\u001b[0m \u001b[39m\u001b[39m\u001b[39m\"\"\"\u001b[39;00m\n\u001b[1;32m   6456\u001b[0m \u001b[39mMap values using an input mapping or function.\u001b[39;00m\n\u001b[1;32m   6457\u001b[0m \n\u001b[0;32m   (...)\u001b[0m\n\u001b[1;32m   6487\u001b[0m \u001b[39mIndex(['A', 'B', 'C'], dtype='object')\u001b[39;00m\n\u001b[1;32m   6488\u001b[0m \u001b[39m\"\"\"\u001b[39;00m\n\u001b[1;32m   6489\u001b[0m \u001b[39mfrom\u001b[39;00m \u001b[39mpandas\u001b[39;00m\u001b[39m.\u001b[39;00m\u001b[39mcore\u001b[39;00m\u001b[39m.\u001b[39;00m\u001b[39mindexes\u001b[39;00m\u001b[39m.\u001b[39;00m\u001b[39mmulti\u001b[39;00m \u001b[39mimport\u001b[39;00m MultiIndex\n\u001b[0;32m-> 6491\u001b[0m new_values \u001b[39m=\u001b[39m \u001b[39mself\u001b[39;49m\u001b[39m.\u001b[39;49m_map_values(mapper, na_action\u001b[39m=\u001b[39;49mna_action)\n\u001b[1;32m   6493\u001b[0m \u001b[39m# we can return a MultiIndex\u001b[39;00m\n\u001b[1;32m   6494\u001b[0m \u001b[39mif\u001b[39;00m new_values\u001b[39m.\u001b[39msize \u001b[39mand\u001b[39;00m \u001b[39misinstance\u001b[39m(new_values[\u001b[39m0\u001b[39m], \u001b[39mtuple\u001b[39m):\n",
      "File \u001b[0;32m~/Desktop/Projects/Earning-Calls-Processor/venv/lib/python3.9/site-packages/pandas/core/base.py:921\u001b[0m, in \u001b[0;36mIndexOpsMixin._map_values\u001b[0;34m(self, mapper, na_action, convert)\u001b[0m\n\u001b[1;32m    918\u001b[0m \u001b[39mif\u001b[39;00m \u001b[39misinstance\u001b[39m(arr, ExtensionArray):\n\u001b[1;32m    919\u001b[0m     \u001b[39mreturn\u001b[39;00m arr\u001b[39m.\u001b[39mmap(mapper, na_action\u001b[39m=\u001b[39mna_action)\n\u001b[0;32m--> 921\u001b[0m \u001b[39mreturn\u001b[39;00m algorithms\u001b[39m.\u001b[39;49mmap_array(arr, mapper, na_action\u001b[39m=\u001b[39;49mna_action, convert\u001b[39m=\u001b[39;49mconvert)\n",
      "File \u001b[0;32m~/Desktop/Projects/Earning-Calls-Processor/venv/lib/python3.9/site-packages/pandas/core/algorithms.py:1743\u001b[0m, in \u001b[0;36mmap_array\u001b[0;34m(arr, mapper, na_action, convert)\u001b[0m\n\u001b[1;32m   1741\u001b[0m values \u001b[39m=\u001b[39m arr\u001b[39m.\u001b[39mastype(\u001b[39mobject\u001b[39m, copy\u001b[39m=\u001b[39m\u001b[39mFalse\u001b[39;00m)\n\u001b[1;32m   1742\u001b[0m \u001b[39mif\u001b[39;00m na_action \u001b[39mis\u001b[39;00m \u001b[39mNone\u001b[39;00m:\n\u001b[0;32m-> 1743\u001b[0m     \u001b[39mreturn\u001b[39;00m lib\u001b[39m.\u001b[39;49mmap_infer(values, mapper, convert\u001b[39m=\u001b[39;49mconvert)\n\u001b[1;32m   1744\u001b[0m \u001b[39melse\u001b[39;00m:\n\u001b[1;32m   1745\u001b[0m     \u001b[39mreturn\u001b[39;00m lib\u001b[39m.\u001b[39mmap_infer_mask(\n\u001b[1;32m   1746\u001b[0m         values, mapper, mask\u001b[39m=\u001b[39misna(values)\u001b[39m.\u001b[39mview(np\u001b[39m.\u001b[39muint8), convert\u001b[39m=\u001b[39mconvert\n\u001b[1;32m   1747\u001b[0m     )\n",
      "File \u001b[0;32mlib.pyx:2972\u001b[0m, in \u001b[0;36mpandas._libs.lib.map_infer\u001b[0;34m()\u001b[0m\n",
      "File \u001b[0;32m~/Desktop/Projects/Earning-Calls-Processor/venv/lib/python3.9/site-packages/pysentiment2/base.py:75\u001b[0m, in \u001b[0;36mBaseDict.tokenize_first\u001b[0;34m(self, x)\u001b[0m\n\u001b[1;32m     70\u001b[0m \u001b[39mdef\u001b[39;00m \u001b[39mtokenize_first\u001b[39m(\u001b[39mself\u001b[39m, x):\n\u001b[1;32m     71\u001b[0m \u001b[39m    \u001b[39m\u001b[39m\"\"\"\u001b[39;00m\n\u001b[1;32m     72\u001b[0m \u001b[39m    :type x: str\u001b[39;00m\n\u001b[1;32m     73\u001b[0m \u001b[39m    :returns: str\u001b[39;00m\n\u001b[1;32m     74\u001b[0m \u001b[39m    \"\"\"\u001b[39;00m\n\u001b[0;32m---> 75\u001b[0m     tokens \u001b[39m=\u001b[39m \u001b[39mself\u001b[39;49m\u001b[39m.\u001b[39;49mtokenize(x)\n\u001b[1;32m     76\u001b[0m     \u001b[39mif\u001b[39;00m tokens:\n\u001b[1;32m     77\u001b[0m         \u001b[39mreturn\u001b[39;00m tokens[\u001b[39m0\u001b[39m]\n",
      "File \u001b[0;32m~/Desktop/Projects/Earning-Calls-Processor/venv/lib/python3.9/site-packages/pysentiment2/base.py:68\u001b[0m, in \u001b[0;36mBaseDict.tokenize\u001b[0;34m(self, text)\u001b[0m\n\u001b[1;32m     62\u001b[0m \u001b[39mdef\u001b[39;00m \u001b[39mtokenize\u001b[39m(\u001b[39mself\u001b[39m, text):\n\u001b[1;32m     63\u001b[0m \u001b[39m    \u001b[39m\u001b[39m\"\"\"\u001b[39;00m\n\u001b[1;32m     64\u001b[0m \u001b[39m    :type text: str\u001b[39;00m\n\u001b[1;32m     65\u001b[0m \u001b[39m    :returns: list\u001b[39;00m\n\u001b[1;32m     66\u001b[0m \u001b[39m    \"\"\"\u001b[39;00m\n\u001b[0;32m---> 68\u001b[0m     \u001b[39mreturn\u001b[39;00m \u001b[39mself\u001b[39;49m\u001b[39m.\u001b[39;49m_tokenizer\u001b[39m.\u001b[39;49mtokenize(text)\n",
      "File \u001b[0;32m~/Desktop/Projects/Earning-Calls-Processor/venv/lib/python3.9/site-packages/pysentiment2/utils.py:41\u001b[0m, in \u001b[0;36mTokenizer.tokenize\u001b[0;34m(self, text)\u001b[0m\n\u001b[1;32m     39\u001b[0m tokens \u001b[39m=\u001b[39m []\n\u001b[1;32m     40\u001b[0m \u001b[39mfor\u001b[39;00m t \u001b[39min\u001b[39;00m nltk\u001b[39m.\u001b[39mregexp_tokenize(text\u001b[39m.\u001b[39mlower(), \u001b[39m'\u001b[39m\u001b[39m[a-z]+\u001b[39m\u001b[39m'\u001b[39m):\n\u001b[0;32m---> 41\u001b[0m     t \u001b[39m=\u001b[39m \u001b[39mself\u001b[39;49m\u001b[39m.\u001b[39;49m_stemmer\u001b[39m.\u001b[39;49mstem(t)\n\u001b[1;32m     42\u001b[0m     \u001b[39mif\u001b[39;00m \u001b[39mnot\u001b[39;00m t \u001b[39min\u001b[39;00m \u001b[39mself\u001b[39m\u001b[39m.\u001b[39m_stopset:\n\u001b[1;32m     43\u001b[0m         tokens\u001b[39m.\u001b[39mappend(t)\n",
      "File \u001b[0;32m~/Desktop/Projects/Earning-Calls-Processor/venv/lib/python3.9/site-packages/nltk/stem/porter.py:672\u001b[0m, in \u001b[0;36mPorterStemmer.stem\u001b[0;34m(self, word, to_lowercase)\u001b[0m\n\u001b[1;32m    670\u001b[0m stem \u001b[39m=\u001b[39m \u001b[39mself\u001b[39m\u001b[39m.\u001b[39m_step1b(stem)\n\u001b[1;32m    671\u001b[0m stem \u001b[39m=\u001b[39m \u001b[39mself\u001b[39m\u001b[39m.\u001b[39m_step1c(stem)\n\u001b[0;32m--> 672\u001b[0m stem \u001b[39m=\u001b[39m \u001b[39mself\u001b[39;49m\u001b[39m.\u001b[39;49m_step2(stem)\n\u001b[1;32m    673\u001b[0m stem \u001b[39m=\u001b[39m \u001b[39mself\u001b[39m\u001b[39m.\u001b[39m_step3(stem)\n\u001b[1;32m    674\u001b[0m stem \u001b[39m=\u001b[39m \u001b[39mself\u001b[39m\u001b[39m.\u001b[39m_step4(stem)\n",
      "File \u001b[0;32m~/Desktop/Projects/Earning-Calls-Processor/venv/lib/python3.9/site-packages/nltk/stem/porter.py:513\u001b[0m, in \u001b[0;36mPorterStemmer._step2\u001b[0;34m(self, word)\u001b[0m\n\u001b[1;32m    510\u001b[0m \u001b[39mif\u001b[39;00m \u001b[39mself\u001b[39m\u001b[39m.\u001b[39mmode \u001b[39m==\u001b[39m \u001b[39mself\u001b[39m\u001b[39m.\u001b[39mMARTIN_EXTENSIONS:\n\u001b[1;32m    511\u001b[0m     rules\u001b[39m.\u001b[39mappend((\u001b[39m\"\u001b[39m\u001b[39mlogi\u001b[39m\u001b[39m\"\u001b[39m, \u001b[39m\"\u001b[39m\u001b[39mlog\u001b[39m\u001b[39m\"\u001b[39m, \u001b[39mself\u001b[39m\u001b[39m.\u001b[39m_has_positive_measure))\n\u001b[0;32m--> 513\u001b[0m \u001b[39mreturn\u001b[39;00m \u001b[39mself\u001b[39;49m\u001b[39m.\u001b[39;49m_apply_rule_list(word, rules)\n",
      "File \u001b[0;32m~/Desktop/Projects/Earning-Calls-Processor/venv/lib/python3.9/site-packages/nltk/stem/porter.py:257\u001b[0m, in \u001b[0;36mPorterStemmer._apply_rule_list\u001b[0;34m(self, word, rules)\u001b[0m\n\u001b[1;32m    248\u001b[0m \u001b[39mdef\u001b[39;00m \u001b[39m_apply_rule_list\u001b[39m(\u001b[39mself\u001b[39m, word, rules):\n\u001b[1;32m    249\u001b[0m \u001b[39m    \u001b[39m\u001b[39m\"\"\"Applies the first applicable suffix-removal rule to the word\u001b[39;00m\n\u001b[1;32m    250\u001b[0m \n\u001b[1;32m    251\u001b[0m \u001b[39m    Takes a word and a list of suffix-removal rules represented as\u001b[39;00m\n\u001b[0;32m   (...)\u001b[0m\n\u001b[1;32m    255\u001b[0m \u001b[39m    or None if the rule is unconditional.\u001b[39;00m\n\u001b[1;32m    256\u001b[0m \u001b[39m    \"\"\"\u001b[39;00m\n\u001b[0;32m--> 257\u001b[0m     \u001b[39mfor\u001b[39;00m rule \u001b[39min\u001b[39;00m rules:\n\u001b[1;32m    258\u001b[0m         suffix, replacement, condition \u001b[39m=\u001b[39m rule\n\u001b[1;32m    259\u001b[0m         \u001b[39mif\u001b[39;00m suffix \u001b[39m==\u001b[39m \u001b[39m\"\u001b[39m\u001b[39m*d\u001b[39m\u001b[39m\"\u001b[39m \u001b[39mand\u001b[39;00m \u001b[39mself\u001b[39m\u001b[39m.\u001b[39m_ends_double_consonant(word):\n",
      "\u001b[0;31mKeyboardInterrupt\u001b[0m: "
     ]
    }
   ],
   "source": [
    "data = get_sentiment_pysentiment(data)"
   ]
  },
  {
   "cell_type": "code",
   "execution_count": 73,
   "metadata": {},
   "outputs": [
    {
     "ename": "TypeError",
     "evalue": "unsupported operand type(s) for /: 'dict_values' and 'int'",
     "output_type": "error",
     "traceback": [
      "\u001b[0;31m---------------------------------------------------------------------------\u001b[0m",
      "\u001b[0;31mTypeError\u001b[0m                                 Traceback (most recent call last)",
      "\u001b[1;32m/Users/maxime/Desktop/Projects/Earning-Calls-Processor/sentiment-extraction.ipynb Cell 12\u001b[0m line \u001b[0;36m2\n\u001b[1;32m      <a href='vscode-notebook-cell:/Users/maxime/Desktop/Projects/Earning-Calls-Processor/sentiment-extraction.ipynb#X14sZmlsZQ%3D%3D?line=0'>1</a>\u001b[0m test \u001b[39m=\u001b[39m \u001b[39m\"\u001b[39m\u001b[39m HELLOOOOOy\u001b[39m\u001b[39m\"\u001b[39m\n\u001b[0;32m----> <a href='vscode-notebook-cell:/Users/maxime/Desktop/Projects/Earning-Calls-Processor/sentiment-extraction.ipynb#X14sZmlsZQ%3D%3D?line=1'>2</a>\u001b[0m get_sentiment_text_hiv4(test)\n",
      "\u001b[1;32m/Users/maxime/Desktop/Projects/Earning-Calls-Processor/sentiment-extraction.ipynb Cell 12\u001b[0m line \u001b[0;36m1\n\u001b[1;32m     <a href='vscode-notebook-cell:/Users/maxime/Desktop/Projects/Earning-Calls-Processor/sentiment-extraction.ipynb#X14sZmlsZQ%3D%3D?line=9'>10</a>\u001b[0m     score \u001b[39m=\u001b[39m hiv4\u001b[39m.\u001b[39mget_score(tokens)\u001b[39m.\u001b[39mvalues()\n\u001b[1;32m     <a href='vscode-notebook-cell:/Users/maxime/Desktop/Projects/Earning-Calls-Processor/sentiment-extraction.ipynb#X14sZmlsZQ%3D%3D?line=10'>11</a>\u001b[0m     list_sentiment\u001b[39m.\u001b[39mappend(score)\n\u001b[0;32m---> <a href='vscode-notebook-cell:/Users/maxime/Desktop/Projects/Earning-Calls-Processor/sentiment-extraction.ipynb#X14sZmlsZQ%3D%3D?line=11'>12</a>\u001b[0m \u001b[39mreturn\u001b[39;00m np\u001b[39m.\u001b[39;49mmean(list_sentiment, axis\u001b[39m=\u001b[39;49m\u001b[39m0\u001b[39;49m)\n\u001b[1;32m     <a href='vscode-notebook-cell:/Users/maxime/Desktop/Projects/Earning-Calls-Processor/sentiment-extraction.ipynb#X14sZmlsZQ%3D%3D?line=14'>15</a>\u001b[0m \u001b[39mreturn\u001b[39;00m score\n",
      "File \u001b[0;32m~/Desktop/Projects/Earning-Calls-Processor/venv/lib/python3.9/site-packages/numpy/core/fromnumeric.py:3504\u001b[0m, in \u001b[0;36mmean\u001b[0;34m(a, axis, dtype, out, keepdims, where)\u001b[0m\n\u001b[1;32m   3501\u001b[0m     \u001b[39melse\u001b[39;00m:\n\u001b[1;32m   3502\u001b[0m         \u001b[39mreturn\u001b[39;00m mean(axis\u001b[39m=\u001b[39maxis, dtype\u001b[39m=\u001b[39mdtype, out\u001b[39m=\u001b[39mout, \u001b[39m*\u001b[39m\u001b[39m*\u001b[39mkwargs)\n\u001b[0;32m-> 3504\u001b[0m \u001b[39mreturn\u001b[39;00m _methods\u001b[39m.\u001b[39;49m_mean(a, axis\u001b[39m=\u001b[39;49maxis, dtype\u001b[39m=\u001b[39;49mdtype,\n\u001b[1;32m   3505\u001b[0m                       out\u001b[39m=\u001b[39;49mout, \u001b[39m*\u001b[39;49m\u001b[39m*\u001b[39;49mkwargs)\n",
      "File \u001b[0;32m~/Desktop/Projects/Earning-Calls-Processor/venv/lib/python3.9/site-packages/numpy/core/_methods.py:131\u001b[0m, in \u001b[0;36m_mean\u001b[0;34m(a, axis, dtype, out, keepdims, where)\u001b[0m\n\u001b[1;32m    129\u001b[0m         ret \u001b[39m=\u001b[39m ret\u001b[39m.\u001b[39mdtype\u001b[39m.\u001b[39mtype(ret \u001b[39m/\u001b[39m rcount)\n\u001b[1;32m    130\u001b[0m \u001b[39melse\u001b[39;00m:\n\u001b[0;32m--> 131\u001b[0m     ret \u001b[39m=\u001b[39m ret \u001b[39m/\u001b[39;49m rcount\n\u001b[1;32m    133\u001b[0m \u001b[39mreturn\u001b[39;00m ret\n",
      "\u001b[0;31mTypeError\u001b[0m: unsupported operand type(s) for /: 'dict_values' and 'int'"
     ]
    }
   ],
   "source": [
    "test = \" HELLOOOOOy\"\n",
    "get_sentiment_text_hiv4(test)"
   ]
  },
  {
   "cell_type": "code",
   "execution_count": 75,
   "metadata": {},
   "outputs": [
    {
     "ename": "TypeError",
     "evalue": "unsupported operand type(s) for /: 'dict_values' and 'int'",
     "output_type": "error",
     "traceback": [
      "\u001b[0;31m---------------------------------------------------------------------------\u001b[0m",
      "\u001b[0;31mTypeError\u001b[0m                                 Traceback (most recent call last)",
      "\u001b[1;32m/Users/maxime/Desktop/Projects/Earning-Calls-Processor/sentiment-extraction.ipynb Cell 14\u001b[0m line \u001b[0;36m1\n\u001b[0;32m----> <a href='vscode-notebook-cell:/Users/maxime/Desktop/Projects/Earning-Calls-Processor/sentiment-extraction.ipynb#X15sZmlsZQ%3D%3D?line=0'>1</a>\u001b[0m get_sentiment_text_lm(test)\n",
      "\u001b[1;32m/Users/maxime/Desktop/Projects/Earning-Calls-Processor/sentiment-extraction.ipynb Cell 14\u001b[0m line \u001b[0;36m2\n\u001b[1;32m     <a href='vscode-notebook-cell:/Users/maxime/Desktop/Projects/Earning-Calls-Processor/sentiment-extraction.ipynb#X15sZmlsZQ%3D%3D?line=23'>24</a>\u001b[0m     score \u001b[39m=\u001b[39m lm\u001b[39m.\u001b[39mget_score(tokens)\u001b[39m.\u001b[39mvalues()\n\u001b[1;32m     <a href='vscode-notebook-cell:/Users/maxime/Desktop/Projects/Earning-Calls-Processor/sentiment-extraction.ipynb#X15sZmlsZQ%3D%3D?line=24'>25</a>\u001b[0m     list_sentiment\u001b[39m.\u001b[39mappend(score)\n\u001b[0;32m---> <a href='vscode-notebook-cell:/Users/maxime/Desktop/Projects/Earning-Calls-Processor/sentiment-extraction.ipynb#X15sZmlsZQ%3D%3D?line=25'>26</a>\u001b[0m \u001b[39mreturn\u001b[39;00m np\u001b[39m.\u001b[39;49mmean(list_sentiment, axis\u001b[39m=\u001b[39;49m\u001b[39m0\u001b[39;49m)\n",
      "File \u001b[0;32m~/Desktop/Projects/Earning-Calls-Processor/venv/lib/python3.9/site-packages/numpy/core/fromnumeric.py:3504\u001b[0m, in \u001b[0;36mmean\u001b[0;34m(a, axis, dtype, out, keepdims, where)\u001b[0m\n\u001b[1;32m   3501\u001b[0m     \u001b[39melse\u001b[39;00m:\n\u001b[1;32m   3502\u001b[0m         \u001b[39mreturn\u001b[39;00m mean(axis\u001b[39m=\u001b[39maxis, dtype\u001b[39m=\u001b[39mdtype, out\u001b[39m=\u001b[39mout, \u001b[39m*\u001b[39m\u001b[39m*\u001b[39mkwargs)\n\u001b[0;32m-> 3504\u001b[0m \u001b[39mreturn\u001b[39;00m _methods\u001b[39m.\u001b[39;49m_mean(a, axis\u001b[39m=\u001b[39;49maxis, dtype\u001b[39m=\u001b[39;49mdtype,\n\u001b[1;32m   3505\u001b[0m                       out\u001b[39m=\u001b[39;49mout, \u001b[39m*\u001b[39;49m\u001b[39m*\u001b[39;49mkwargs)\n",
      "File \u001b[0;32m~/Desktop/Projects/Earning-Calls-Processor/venv/lib/python3.9/site-packages/numpy/core/_methods.py:131\u001b[0m, in \u001b[0;36m_mean\u001b[0;34m(a, axis, dtype, out, keepdims, where)\u001b[0m\n\u001b[1;32m    129\u001b[0m         ret \u001b[39m=\u001b[39m ret\u001b[39m.\u001b[39mdtype\u001b[39m.\u001b[39mtype(ret \u001b[39m/\u001b[39m rcount)\n\u001b[1;32m    130\u001b[0m \u001b[39melse\u001b[39;00m:\n\u001b[0;32m--> 131\u001b[0m     ret \u001b[39m=\u001b[39m ret \u001b[39m/\u001b[39;49m rcount\n\u001b[1;32m    133\u001b[0m \u001b[39mreturn\u001b[39;00m ret\n",
      "\u001b[0;31mTypeError\u001b[0m: unsupported operand type(s) for /: 'dict_values' and 'int'"
     ]
    }
   ],
   "source": [
    "get_sentiment_text_lm(test)"
   ]
  },
  {
   "cell_type": "code",
   "execution_count": null,
   "metadata": {},
   "outputs": [],
   "source": []
  }
 ],
 "metadata": {
  "kernelspec": {
   "display_name": "venv",
   "language": "python",
   "name": "python3"
  },
  "language_info": {
   "codemirror_mode": {
    "name": "ipython",
    "version": 3
   },
   "file_extension": ".py",
   "mimetype": "text/x-python",
   "name": "python",
   "nbconvert_exporter": "python",
   "pygments_lexer": "ipython3",
   "version": "3.9.18"
  }
 },
 "nbformat": 4,
 "nbformat_minor": 2
}
